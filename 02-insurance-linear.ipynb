{
 "cells": [
  {
   "cell_type": "markdown",
   "metadata": {
    "_cell_guid": "b1076dfc-b9ad-4769-8c92-a6c4dae69d19",
    "_uuid": "8f2839f25d086af736a60e9eeb907d3b93b6e0e5"
   },
   "source": [
    "# Insurance cost prediction using linear regression\n",
    "\n",
    "Make a submisson here: https://jovian.ai/learn/deep-learning-with-pytorch-zero-to-gans/assignment/assignment-2-train-your-first-model\n",
    "\n",
    "In this assignment we're going to use information like a person's age, sex, BMI, no. of children and smoking habit to predict the price of yearly medical bills. This kind of model is useful for insurance companies to determine the yearly insurance premium for a person. The dataset for this problem is taken from [Kaggle](https://www.kaggle.com/mirichoi0218/insurance).\n",
    "\n",
    "\n",
    "We will create a model with the following steps:\n",
    "1. Download and explore the dataset\n",
    "2. Prepare the dataset for training\n",
    "3. Create a linear regression model\n",
    "4. Train the model to fit the data\n",
    "5. Make predictions using the trained model\n",
    "\n",
    "\n",
    "This assignment builds upon the concepts from the first 2 lessons. It will help to review these Jupyter notebooks:\n",
    "- PyTorch basics: https://jovian.ai/aakashns/01-pytorch-basics\n",
    "- Linear Regression: https://jovian.ai/aakashns/02-linear-regression\n",
    "- Logistic Regression: https://jovian.ai/aakashns/03-logistic-regression\n",
    "- Linear regression (minimal): https://jovian.ai/aakashns/housing-linear-minimal\n",
    "- Logistic regression (minimal): https://jovian.ai/aakashns/mnist-logistic-minimal\n",
    "\n",
    "As you go through this notebook, you will find a **???** in certain places. Your job is to replace the **???** with appropriate code or values, to ensure that the notebook runs properly end-to-end . In some cases, you'll be required to choose some hyperparameters (learning rate, batch size etc.). Try to experiment with the hypeparameters to get the lowest loss.\n"
   ]
  },
  {
   "cell_type": "code",
   "execution_count": 1,
   "metadata": {},
   "outputs": [],
   "source": [
    "# Uncomment and run the appropriate command for your operating system, if required\n",
    "\n",
    "# Linux / Binder\n",
    "# !pip install numpy matplotlib pandas torch==1.7.0+cpu torchvision==0.8.1+cpu torchaudio==0.7.0 -f https://download.pytorch.org/whl/torch_stable.html\n",
    "\n",
    "# Windows\n",
    "# !pip install numpy matplotlib pandas torch==1.7.0+cpu torchvision==0.8.1+cpu torchaudio==0.7.0 -f https://download.pytorch.org/whl/torch_stable.html\n",
    "\n",
    "# MacOS\n",
    "# !pip install numpy matplotlib pandas torch torchvision torchaudio"
   ]
  },
  {
   "cell_type": "code",
   "execution_count": 2,
   "metadata": {},
   "outputs": [],
   "source": [
    "import torch\n",
    "import jovian\n",
    "import torchvision\n",
    "import torch.nn as nn\n",
    "import pandas as pd\n",
    "import matplotlib.pyplot as plt\n",
    "import torch.nn.functional as F\n",
    "from torchvision.datasets.utils import download_url\n",
    "from torch.utils.data import DataLoader, TensorDataset, random_split"
   ]
  },
  {
   "cell_type": "code",
   "execution_count": 3,
   "metadata": {},
   "outputs": [],
   "source": [
    "torch.set_default_dtype(torch.float64)"
   ]
  },
  {
   "cell_type": "code",
   "execution_count": 4,
   "metadata": {},
   "outputs": [],
   "source": [
    "project_name='02-insurance-linear-regression' # will be used by jovian.commit"
   ]
  },
  {
   "cell_type": "markdown",
   "metadata": {},
   "source": [
    "## Step 1: Download and explore the data\n",
    "\n",
    "Let us begin by downloading the data. We'll use the `download_url` function from PyTorch to get the data as a CSV (comma-separated values) file. "
   ]
  },
  {
   "cell_type": "code",
   "execution_count": 5,
   "metadata": {
    "_cell_guid": "79c7e3d0-c299-4dcb-8224-4455121ee9b0",
    "_uuid": "d629ff2d2480ee46fbb7e2d37f6b5fab8052498a"
   },
   "outputs": [
    {
     "name": "stdout",
     "output_type": "stream",
     "text": [
      "Using downloaded and verified file: ./insurance.csv\n"
     ]
    }
   ],
   "source": [
    "DATASET_URL = \"https://hub.jovian.ml/wp-content/uploads/2020/05/insurance.csv\"\n",
    "DATA_FILENAME = \"insurance.csv\"\n",
    "download_url(DATASET_URL, '.')"
   ]
  },
  {
   "cell_type": "markdown",
   "metadata": {},
   "source": [
    "To load the dataset into memory, we'll use the `read_csv` function from the `pandas` library. The data will be loaded as a Pandas dataframe. See this short tutorial to learn more: https://data36.com/pandas-tutorial-1-basics-reading-data-files-dataframes-data-selection/"
   ]
  },
  {
   "cell_type": "code",
   "execution_count": 6,
   "metadata": {},
   "outputs": [
    {
     "data": {
      "text/html": [
       "<div>\n",
       "<style scoped>\n",
       "    .dataframe tbody tr th:only-of-type {\n",
       "        vertical-align: middle;\n",
       "    }\n",
       "\n",
       "    .dataframe tbody tr th {\n",
       "        vertical-align: top;\n",
       "    }\n",
       "\n",
       "    .dataframe thead th {\n",
       "        text-align: right;\n",
       "    }\n",
       "</style>\n",
       "<table border=\"1\" class=\"dataframe\">\n",
       "  <thead>\n",
       "    <tr style=\"text-align: right;\">\n",
       "      <th></th>\n",
       "      <th>age</th>\n",
       "      <th>sex</th>\n",
       "      <th>bmi</th>\n",
       "      <th>children</th>\n",
       "      <th>smoker</th>\n",
       "      <th>region</th>\n",
       "      <th>charges</th>\n",
       "    </tr>\n",
       "  </thead>\n",
       "  <tbody>\n",
       "    <tr>\n",
       "      <th>0</th>\n",
       "      <td>19</td>\n",
       "      <td>female</td>\n",
       "      <td>27.900</td>\n",
       "      <td>0</td>\n",
       "      <td>yes</td>\n",
       "      <td>southwest</td>\n",
       "      <td>16884.92400</td>\n",
       "    </tr>\n",
       "    <tr>\n",
       "      <th>1</th>\n",
       "      <td>18</td>\n",
       "      <td>male</td>\n",
       "      <td>33.770</td>\n",
       "      <td>1</td>\n",
       "      <td>no</td>\n",
       "      <td>southeast</td>\n",
       "      <td>1725.55230</td>\n",
       "    </tr>\n",
       "    <tr>\n",
       "      <th>2</th>\n",
       "      <td>28</td>\n",
       "      <td>male</td>\n",
       "      <td>33.000</td>\n",
       "      <td>3</td>\n",
       "      <td>no</td>\n",
       "      <td>southeast</td>\n",
       "      <td>4449.46200</td>\n",
       "    </tr>\n",
       "    <tr>\n",
       "      <th>3</th>\n",
       "      <td>33</td>\n",
       "      <td>male</td>\n",
       "      <td>22.705</td>\n",
       "      <td>0</td>\n",
       "      <td>no</td>\n",
       "      <td>northwest</td>\n",
       "      <td>21984.47061</td>\n",
       "    </tr>\n",
       "    <tr>\n",
       "      <th>4</th>\n",
       "      <td>32</td>\n",
       "      <td>male</td>\n",
       "      <td>28.880</td>\n",
       "      <td>0</td>\n",
       "      <td>no</td>\n",
       "      <td>northwest</td>\n",
       "      <td>3866.85520</td>\n",
       "    </tr>\n",
       "  </tbody>\n",
       "</table>\n",
       "</div>"
      ],
      "text/plain": [
       "   age     sex     bmi  children smoker     region      charges\n",
       "0   19  female  27.900         0    yes  southwest  16884.92400\n",
       "1   18    male  33.770         1     no  southeast   1725.55230\n",
       "2   28    male  33.000         3     no  southeast   4449.46200\n",
       "3   33    male  22.705         0     no  northwest  21984.47061\n",
       "4   32    male  28.880         0     no  northwest   3866.85520"
      ]
     },
     "execution_count": 6,
     "metadata": {},
     "output_type": "execute_result"
    }
   ],
   "source": [
    "dataframe_raw = pd.read_csv(DATA_FILENAME)\n",
    "dataframe_raw.head()"
   ]
  },
  {
   "cell_type": "markdown",
   "metadata": {},
   "source": [
    "We're going to do a slight customization of the data, so that you every participant receives a slightly different version of the dataset. Fill in your name below as a string (enter at least 5 characters)"
   ]
  },
  {
   "cell_type": "code",
   "execution_count": 7,
   "metadata": {},
   "outputs": [],
   "source": [
    "your_name = 'jorgais' # at least 5 characters"
   ]
  },
  {
   "cell_type": "markdown",
   "metadata": {},
   "source": [
    "The `customize_dataset` function will customize the dataset slightly using your name as a source of random numbers."
   ]
  },
  {
   "cell_type": "code",
   "execution_count": 8,
   "metadata": {},
   "outputs": [],
   "source": [
    "def customize_dataset(dataframe_raw, rand_str):\n",
    "    dataframe = dataframe_raw.copy(deep=True)\n",
    "    # drop some rows\n",
    "    dataframe = dataframe.sample(int(0.95*len(dataframe)), random_state=int(ord(rand_str[0])))\n",
    "    # scale input\n",
    "    dataframe.bmi = dataframe.bmi * ord(rand_str[1])/100.\n",
    "    # scale target\n",
    "    dataframe.charges = dataframe.charges * ord(rand_str[2])/100.\n",
    "    # drop column\n",
    "    if ord(rand_str[3]) % 2 == 1:\n",
    "        dataframe = dataframe.drop(['region'], axis=1)\n",
    "    return dataframe"
   ]
  },
  {
   "cell_type": "code",
   "execution_count": 9,
   "metadata": {},
   "outputs": [
    {
     "data": {
      "text/html": [
       "<div>\n",
       "<style scoped>\n",
       "    .dataframe tbody tr th:only-of-type {\n",
       "        vertical-align: middle;\n",
       "    }\n",
       "\n",
       "    .dataframe tbody tr th {\n",
       "        vertical-align: top;\n",
       "    }\n",
       "\n",
       "    .dataframe thead th {\n",
       "        text-align: right;\n",
       "    }\n",
       "</style>\n",
       "<table border=\"1\" class=\"dataframe\">\n",
       "  <thead>\n",
       "    <tr style=\"text-align: right;\">\n",
       "      <th></th>\n",
       "      <th>age</th>\n",
       "      <th>sex</th>\n",
       "      <th>bmi</th>\n",
       "      <th>children</th>\n",
       "      <th>smoker</th>\n",
       "      <th>charges</th>\n",
       "    </tr>\n",
       "  </thead>\n",
       "  <tbody>\n",
       "    <tr>\n",
       "      <th>619</th>\n",
       "      <td>55</td>\n",
       "      <td>female</td>\n",
       "      <td>41.18100</td>\n",
       "      <td>0</td>\n",
       "      <td>no</td>\n",
       "      <td>12213.554160</td>\n",
       "    </tr>\n",
       "    <tr>\n",
       "      <th>319</th>\n",
       "      <td>32</td>\n",
       "      <td>male</td>\n",
       "      <td>41.44185</td>\n",
       "      <td>1</td>\n",
       "      <td>no</td>\n",
       "      <td>5321.072721</td>\n",
       "    </tr>\n",
       "    <tr>\n",
       "      <th>34</th>\n",
       "      <td>28</td>\n",
       "      <td>male</td>\n",
       "      <td>40.40400</td>\n",
       "      <td>1</td>\n",
       "      <td>yes</td>\n",
       "      <td>58361.797420</td>\n",
       "    </tr>\n",
       "    <tr>\n",
       "      <th>403</th>\n",
       "      <td>49</td>\n",
       "      <td>male</td>\n",
       "      <td>35.85300</td>\n",
       "      <td>3</td>\n",
       "      <td>no</td>\n",
       "      <td>11707.184400</td>\n",
       "    </tr>\n",
       "    <tr>\n",
       "      <th>113</th>\n",
       "      <td>21</td>\n",
       "      <td>female</td>\n",
       "      <td>39.64920</td>\n",
       "      <td>0</td>\n",
       "      <td>no</td>\n",
       "      <td>2741.396532</td>\n",
       "    </tr>\n",
       "  </tbody>\n",
       "</table>\n",
       "</div>"
      ],
      "text/plain": [
       "     age     sex       bmi  children smoker       charges\n",
       "619   55  female  41.18100         0     no  12213.554160\n",
       "319   32    male  41.44185         1     no   5321.072721\n",
       "34    28    male  40.40400         1    yes  58361.797420\n",
       "403   49    male  35.85300         3     no  11707.184400\n",
       "113   21  female  39.64920         0     no   2741.396532"
      ]
     },
     "execution_count": 9,
     "metadata": {},
     "output_type": "execute_result"
    }
   ],
   "source": [
    "dataframe = customize_dataset(dataframe_raw, your_name)\n",
    "dataframe.head()"
   ]
  },
  {
   "cell_type": "markdown",
   "metadata": {},
   "source": [
    "Let us answer some basic questions about the dataset. \n",
    "\n",
    "\n",
    "**Q: How many rows does the dataset have?**"
   ]
  },
  {
   "cell_type": "code",
   "execution_count": 10,
   "metadata": {},
   "outputs": [
    {
     "name": "stdout",
     "output_type": "stream",
     "text": [
      "1271\n"
     ]
    }
   ],
   "source": [
    "num_rows = dataframe.shape[0]  #???\n",
    "print(num_rows)"
   ]
  },
  {
   "cell_type": "markdown",
   "metadata": {},
   "source": [
    "**Q: How many columns doe the dataset have**"
   ]
  },
  {
   "cell_type": "code",
   "execution_count": 11,
   "metadata": {},
   "outputs": [
    {
     "name": "stdout",
     "output_type": "stream",
     "text": [
      "<class 'pandas.core.frame.DataFrame'>\n",
      "Int64Index: 1271 entries, 619 to 1036\n",
      "Data columns (total 6 columns):\n",
      " #   Column    Non-Null Count  Dtype  \n",
      "---  ------    --------------  -----  \n",
      " 0   age       1271 non-null   int64  \n",
      " 1   sex       1271 non-null   object \n",
      " 2   bmi       1271 non-null   float64\n",
      " 3   children  1271 non-null   int64  \n",
      " 4   smoker    1271 non-null   object \n",
      " 5   charges   1271 non-null   float64\n",
      "dtypes: float64(2), int64(2), object(2)\n",
      "memory usage: 69.5+ KB\n"
     ]
    }
   ],
   "source": [
    "dataframe.info()"
   ]
  },
  {
   "cell_type": "code",
   "execution_count": 12,
   "metadata": {},
   "outputs": [
    {
     "name": "stdout",
     "output_type": "stream",
     "text": [
      "6\n"
     ]
    }
   ],
   "source": [
    "num_cols = dataframe.shape[1] #???\n",
    "print(num_cols)"
   ]
  },
  {
   "cell_type": "markdown",
   "metadata": {},
   "source": [
    "**Q: What are the column titles of the input variables?**"
   ]
  },
  {
   "cell_type": "code",
   "execution_count": 13,
   "metadata": {},
   "outputs": [
    {
     "data": {
      "text/plain": [
       "['age', 'bmi', 'sex', 'smoker', 'children']"
      ]
     },
     "execution_count": 13,
     "metadata": {},
     "output_type": "execute_result"
    }
   ],
   "source": [
    "input_cols = ['age','bmi','sex','smoker','children',]\n",
    "input_cols"
   ]
  },
  {
   "cell_type": "markdown",
   "metadata": {},
   "source": [
    "**Q: Which of the input columns are non-numeric or categorial variables ?**\n",
    "\n",
    "Hint: `sex` is one of them. List the columns that are not numbers."
   ]
  },
  {
   "cell_type": "code",
   "execution_count": 14,
   "metadata": {},
   "outputs": [
    {
     "data": {
      "text/plain": [
       "['sex', 'smoker']"
      ]
     },
     "execution_count": 14,
     "metadata": {},
     "output_type": "execute_result"
    }
   ],
   "source": [
    "\n",
    "categorical_cols = ['sex', 'smoker']\n",
    "categorical_cols\n"
   ]
  },
  {
   "cell_type": "markdown",
   "metadata": {},
   "source": [
    "**Q: What are the column titles of output/target variable(s)?**"
   ]
  },
  {
   "cell_type": "code",
   "execution_count": 15,
   "metadata": {},
   "outputs": [
    {
     "data": {
      "text/plain": [
       "['charges']"
      ]
     },
     "execution_count": 15,
     "metadata": {},
     "output_type": "execute_result"
    }
   ],
   "source": [
    "output_cols = ['charges']\n",
    "output_cols"
   ]
  },
  {
   "cell_type": "markdown",
   "metadata": {},
   "source": [
    "**Q: (Optional) What is the minimum, maximum and average value of the `charges` column? Can you show the distribution of values in a graph?**\n",
    "Use this data visualization cheatsheet for referece: https://jovian.ml/aakashns/dataviz-cheatsheet"
   ]
  },
  {
   "cell_type": "code",
   "execution_count": 16,
   "metadata": {},
   "outputs": [],
   "source": [
    "# Write your answer here"
   ]
  },
  {
   "cell_type": "markdown",
   "metadata": {},
   "source": [
    "Remember to commit your notebook to Jovian after every step, so that you don't lose your work."
   ]
  },
  {
   "cell_type": "code",
   "execution_count": 17,
   "metadata": {},
   "outputs": [],
   "source": [
    "!pip install jovian --upgrade -q"
   ]
  },
  {
   "cell_type": "code",
   "execution_count": 18,
   "metadata": {},
   "outputs": [],
   "source": [
    "import jovian"
   ]
  },
  {
   "cell_type": "code",
   "execution_count": 19,
   "metadata": {},
   "outputs": [
    {
     "data": {
      "application/javascript": [
       "window.require && require([\"base/js/namespace\"],function(Jupyter){Jupyter.notebook.save_checkpoint()})"
      ],
      "text/plain": [
       "<IPython.core.display.Javascript object>"
      ]
     },
     "metadata": {},
     "output_type": "display_data"
    },
    {
     "name": "stdout",
     "output_type": "stream",
     "text": [
      "[jovian] Updating notebook \"tjorgais002/02-insurance-linear-regression\" on https://jovian.ai\u001b[0m\n",
      "[jovian] Committed successfully! https://jovian.ai/tjorgais002/02-insurance-linear-regression\u001b[0m\n"
     ]
    },
    {
     "data": {
      "text/plain": [
       "'https://jovian.ai/tjorgais002/02-insurance-linear-regression'"
      ]
     },
     "execution_count": 19,
     "metadata": {},
     "output_type": "execute_result"
    }
   ],
   "source": [
    "jovian.commit()"
   ]
  },
  {
   "cell_type": "markdown",
   "metadata": {},
   "source": [
    "## Step 2: Prepare the dataset for training\n",
    "\n",
    "We need to convert the data from the Pandas dataframe into a PyTorch tensors for training. To do this, the first step is to convert it numpy arrays. If you've filled out `input_cols`, `categorial_cols` and `output_cols` correctly, this following function will perform the conversion to numpy arrays."
   ]
  },
  {
   "cell_type": "code",
   "execution_count": 20,
   "metadata": {},
   "outputs": [],
   "source": [
    "def dataframe_to_arrays(dataframe):\n",
    "    # Make a copy of the original dataframe\n",
    "    dataframe1 = dataframe.copy(deep=True)\n",
    "    # Convert non-numeric categorical columns to numbers\n",
    "    for col in categorical_cols:\n",
    "        dataframe1[col] = dataframe1[col].astype('category').cat.codes\n",
    "    # Extract input & outupts as numpy arrays\n",
    "    inputs_array = dataframe1[input_cols].to_numpy()\n",
    "    targets_array = dataframe1[output_cols].to_numpy()\n",
    "    return inputs_array, targets_array"
   ]
  },
  {
   "cell_type": "markdown",
   "metadata": {},
   "source": [
    "Read through the [Pandas documentation](https://pandas.pydata.org/pandas-docs/stable/user_guide/categorical.html) to understand how we're converting categorical variables into numbers."
   ]
  },
  {
   "cell_type": "code",
   "execution_count": 21,
   "metadata": {},
   "outputs": [
    {
     "data": {
      "text/plain": [
       "(array([[55.     , 41.181  ,  0.     ,  0.     ,  0.     ],\n",
       "        [32.     , 41.44185,  1.     ,  0.     ,  1.     ],\n",
       "        [28.     , 40.404  ,  1.     ,  1.     ,  1.     ],\n",
       "        ...,\n",
       "        [54.     , 32.412  ,  1.     ,  0.     ,  1.     ],\n",
       "        [18.     , 30.3696 ,  1.     ,  1.     ,  1.     ],\n",
       "        [22.     , 41.1477 ,  1.     ,  1.     ,  2.     ]]),\n",
       " array([[12213.55416  ],\n",
       "        [ 5321.072721 ],\n",
       "        [58361.7974196],\n",
       "        ...,\n",
       "        [11897.14944  ],\n",
       "        [19583.697936 ],\n",
       "        [42732.272202 ]]))"
      ]
     },
     "execution_count": 21,
     "metadata": {},
     "output_type": "execute_result"
    }
   ],
   "source": [
    "inputs_array, targets_array = dataframe_to_arrays(dataframe)\n",
    "inputs_array, targets_array"
   ]
  },
  {
   "cell_type": "markdown",
   "metadata": {},
   "source": [
    "**Q: Convert the numpy arrays `inputs_array` and `targets_array` into PyTorch tensors. Make sure that the data type is `torch.float32`.**"
   ]
  },
  {
   "cell_type": "code",
   "execution_count": 22,
   "metadata": {},
   "outputs": [],
   "source": [
    "inputs = torch.from_numpy(inputs_array)\n",
    "targets = torch.from_numpy(targets_array)"
   ]
  },
  {
   "cell_type": "code",
   "execution_count": 23,
   "metadata": {},
   "outputs": [
    {
     "data": {
      "text/plain": [
       "(torch.float64, torch.float64)"
      ]
     },
     "execution_count": 23,
     "metadata": {},
     "output_type": "execute_result"
    }
   ],
   "source": [
    "inputs.dtype, targets.dtype"
   ]
  },
  {
   "cell_type": "markdown",
   "metadata": {},
   "source": [
    "Next, we need to create PyTorch datasets & data loaders for training & validation. We'll start by creating a `TensorDataset`."
   ]
  },
  {
   "cell_type": "code",
   "execution_count": 24,
   "metadata": {},
   "outputs": [],
   "source": [
    "dataset = TensorDataset(inputs, targets)"
   ]
  },
  {
   "cell_type": "markdown",
   "metadata": {},
   "source": [
    "**Q: Pick a number between `0.1` and `0.2` to determine the fraction of data that will be used for creating the validation set. Then use `random_split` to create training & validation datasets.**"
   ]
  },
  {
   "cell_type": "code",
   "execution_count": 25,
   "metadata": {},
   "outputs": [],
   "source": [
    "val_percent = 0.2 # between 0.1 and 0.2\n",
    "val_size = int(num_rows * val_percent)\n",
    "train_size = num_rows - val_size\n",
    "\n",
    "\n",
    "train_ds, val_ds = random_split(dataset, [train_size, val_size]) # Use the random_split function to split dataset into 2 parts of the desired length"
   ]
  },
  {
   "cell_type": "code",
   "execution_count": 26,
   "metadata": {},
   "outputs": [
    {
     "name": "stdout",
     "output_type": "stream",
     "text": [
      "254\n",
      "1017\n"
     ]
    }
   ],
   "source": [
    "print(val_size)\n",
    "print(train_size)"
   ]
  },
  {
   "cell_type": "markdown",
   "metadata": {},
   "source": [
    "Finally, we can create data loaders for training & validation.\n",
    "\n",
    "**Q: Pick a batch size for the data loader.**"
   ]
  },
  {
   "cell_type": "code",
   "execution_count": 27,
   "metadata": {},
   "outputs": [],
   "source": [
    "batch_size = 50"
   ]
  },
  {
   "cell_type": "code",
   "execution_count": 28,
   "metadata": {},
   "outputs": [],
   "source": [
    "train_loader = DataLoader(train_ds, batch_size, shuffle=True)\n",
    "val_loader = DataLoader(val_ds, batch_size)"
   ]
  },
  {
   "cell_type": "markdown",
   "metadata": {},
   "source": [
    "Let's look at a batch of data to verify everything is working fine so far."
   ]
  },
  {
   "cell_type": "code",
   "execution_count": 29,
   "metadata": {},
   "outputs": [
    {
     "name": "stdout",
     "output_type": "stream",
     "text": [
      "inputs: tensor([[33.0000, 39.6825,  1.0000,  1.0000,  1.0000],\n",
      "        [62.0000, 36.8520,  0.0000,  0.0000,  0.0000],\n",
      "        [61.0000, 35.0427,  1.0000,  0.0000,  0.0000],\n",
      "        [63.0000, 27.8388,  0.0000,  0.0000,  0.0000],\n",
      "        [54.0000, 35.4090,  0.0000,  0.0000,  1.0000],\n",
      "        [47.0000, 26.7510,  0.0000,  0.0000,  1.0000],\n",
      "        [18.0000, 25.7631,  1.0000,  0.0000,  0.0000],\n",
      "        [47.0000, 50.3052,  0.0000,  0.0000,  1.0000],\n",
      "        [24.0000, 37.3293,  1.0000,  0.0000,  4.0000],\n",
      "        [48.0000, 33.5220,  1.0000,  0.0000,  2.0000],\n",
      "        [55.0000, 32.1623,  1.0000,  0.0000,  0.0000],\n",
      "        [24.0000, 29.5260,  0.0000,  0.0000,  0.0000],\n",
      "        [36.0000, 33.3222,  0.0000,  0.0000,  0.0000],\n",
      "        [53.0000, 29.5260,  0.0000,  0.0000,  0.0000],\n",
      "        [19.0000, 22.9770,  1.0000,  0.0000,  0.0000],\n",
      "        [52.0000, 25.7298,  0.0000,  0.0000,  0.0000],\n",
      "        [63.0000, 40.2930,  0.0000,  0.0000,  0.0000],\n",
      "        [26.0000, 26.3070,  1.0000,  0.0000,  2.0000],\n",
      "        [27.0000, 34.6930,  0.0000,  0.0000,  1.0000],\n",
      "        [18.0000, 32.3732,  0.0000,  0.0000,  0.0000],\n",
      "        [37.0000, 26.9952,  1.0000,  0.0000,  2.0000],\n",
      "        [18.0000, 34.7985,  0.0000,  0.0000,  4.0000],\n",
      "        [22.0000, 27.9443,  1.0000,  0.0000,  0.0000],\n",
      "        [18.0000, 40.9035,  0.0000,  1.0000,  0.0000],\n",
      "        [32.0000, 31.2132,  1.0000,  1.0000,  4.0000],\n",
      "        [42.0000, 36.4857,  0.0000,  0.0000,  0.0000],\n",
      "        [23.0000, 40.7037,  0.0000,  1.0000,  2.0000],\n",
      "        [57.0000, 33.0891,  0.0000,  1.0000,  0.0000],\n",
      "        [51.0000, 28.6380,  0.0000,  0.0000,  1.0000],\n",
      "        [21.0000, 39.6492,  0.0000,  0.0000,  0.0000],\n",
      "        [23.0000, 31.4241,  0.0000,  1.0000,  0.0000],\n",
      "        [55.0000, 35.9584,  0.0000,  0.0000,  1.0000],\n",
      "        [52.0000, 36.9630,  0.0000,  0.0000,  2.0000],\n",
      "        [32.0000, 41.2698,  1.0000,  0.0000,  2.0000],\n",
      "        [50.0000, 35.0760,  0.0000,  0.0000,  2.0000],\n",
      "        [47.0000, 26.9952,  0.0000,  0.0000,  0.0000],\n",
      "        [49.0000, 28.6824,  1.0000,  1.0000,  2.0000],\n",
      "        [53.0000, 31.7460,  1.0000,  0.0000,  3.0000],\n",
      "        [63.0000, 25.6243,  0.0000,  0.0000,  0.0000],\n",
      "        [19.0000, 31.0023,  0.0000,  0.0000,  3.0000],\n",
      "        [55.0000, 23.8650,  1.0000,  0.0000,  1.0000],\n",
      "        [23.0000, 36.3858,  0.0000,  1.0000,  2.0000],\n",
      "        [21.0000, 29.3040,  0.0000,  0.0000,  1.0000],\n",
      "        [44.0000, 30.4140,  1.0000,  0.0000,  2.0000],\n",
      "        [38.0000, 21.6173,  0.0000,  0.0000,  2.0000],\n",
      "        [37.0000, 42.6129,  0.0000,  1.0000,  0.0000],\n",
      "        [27.0000, 25.7631,  0.0000,  0.0000,  1.0000],\n",
      "        [31.0000, 24.1480,  0.0000,  0.0000,  0.0000],\n",
      "        [24.0000, 29.7369,  1.0000,  0.0000,  1.0000],\n",
      "        [19.0000, 38.1840,  1.0000,  0.0000,  0.0000]])\n",
      "targets: tensor([[43642.3344],\n",
      "        [15347.2728],\n",
      "        [14315.6700],\n",
      "        [16250.2533],\n",
      "        [12458.8879],\n",
      "        [29909.7012],\n",
      "        [ 1278.9362],\n",
      "        [ 9769.6425],\n",
      "        [19526.4057],\n",
      "        [10223.8962],\n",
      "        [12307.8393],\n",
      "        [ 3472.5107],\n",
      "        [ 6010.2804],\n",
      "        [11805.4307],\n",
      "        [ 1416.8102],\n",
      "        [11625.4603],\n",
      "        [15831.4126],\n",
      "        [ 3972.1373],\n",
      "        [ 4509.9215],\n",
      "        [ 8349.0577],\n",
      "        [ 7066.5771],\n",
      "        [ 5199.7549],\n",
      "        [ 2332.0812],\n",
      "        [41210.4112],\n",
      "        [24478.6258],\n",
      "        [ 8037.0243],\n",
      "        [43903.2563],\n",
      "        [31388.6607],\n",
      "        [11241.5685],\n",
      "        [ 2741.3965],\n",
      "        [20558.7234],\n",
      "        [13542.1786],\n",
      "        [12319.7965],\n",
      "        [ 5327.6671],\n",
      "        [11535.0034],\n",
      "        [ 9729.5259],\n",
      "        [27140.2543],\n",
      "        [12828.8999],\n",
      "        [16475.0921],\n",
      "        [21476.1222],\n",
      "        [12302.8344],\n",
      "        [41063.9528],\n",
      "        [ 2961.4681],\n",
      "        [ 8808.6136],\n",
      "        [ 7903.8962],\n",
      "        [46077.6818],\n",
      "        [ 4060.5533],\n",
      "        [ 4712.8540],\n",
      "        [14375.2712],\n",
      "        [ 1438.5193]])\n"
     ]
    }
   ],
   "source": [
    "for xb, yb in train_loader:\n",
    "    print(\"inputs:\", xb)\n",
    "    print(\"targets:\", yb)\n",
    "    break"
   ]
  },
  {
   "cell_type": "markdown",
   "metadata": {},
   "source": [
    "Let's save our work by committing to Jovian."
   ]
  },
  {
   "cell_type": "code",
   "execution_count": 30,
   "metadata": {},
   "outputs": [
    {
     "data": {
      "application/javascript": [
       "window.require && require([\"base/js/namespace\"],function(Jupyter){Jupyter.notebook.save_checkpoint()})"
      ],
      "text/plain": [
       "<IPython.core.display.Javascript object>"
      ]
     },
     "metadata": {},
     "output_type": "display_data"
    },
    {
     "name": "stdout",
     "output_type": "stream",
     "text": [
      "[jovian] Updating notebook \"tjorgais002/02-insurance-linear-regression\" on https://jovian.ai\u001b[0m\n",
      "[jovian] Committed successfully! https://jovian.ai/tjorgais002/02-insurance-linear-regression\u001b[0m\n"
     ]
    },
    {
     "data": {
      "text/plain": [
       "'https://jovian.ai/tjorgais002/02-insurance-linear-regression'"
      ]
     },
     "execution_count": 30,
     "metadata": {},
     "output_type": "execute_result"
    }
   ],
   "source": [
    "jovian.commit(project=project_name, environment=None)"
   ]
  },
  {
   "cell_type": "markdown",
   "metadata": {},
   "source": [
    "## Step 3: Create a Linear Regression Model\n",
    "\n",
    "Our model itself is a fairly straightforward linear regression (we'll build more complex models in the next assignment). \n"
   ]
  },
  {
   "cell_type": "code",
   "execution_count": 31,
   "metadata": {},
   "outputs": [],
   "source": [
    "input_size = len(input_cols)\n",
    "output_size = len(output_cols)"
   ]
  },
  {
   "cell_type": "markdown",
   "metadata": {},
   "source": [
    "**Q: Complete the class definition below by filling out the constructor (`__init__`), `forward`, `training_step` and `validation_step` methods.**\n",
    "\n",
    "Hint: Think carefully about picking a good loss fuction (it's not cross entropy). Maybe try 2-3 of them and see which one works best. See https://pytorch.org/docs/stable/nn.functional.html#loss-functions"
   ]
  },
  {
   "cell_type": "code",
   "execution_count": 32,
   "metadata": {},
   "outputs": [],
   "source": [
    "class InsuranceModel(nn.Module):\n",
    "    def __init__(self):\n",
    "        super().__init__()\n",
    "        self.linear = nn.Linear(input_size, output_size)            # fill this (hint: use input_size & output_size defined above)\n",
    "        \n",
    "    def forward(self, xb):\n",
    "        #xb=xb.type(torch.FloatTensor)\n",
    "        out = self.linear(xb)                          # fill this\n",
    "        return out\n",
    "    \n",
    "    def training_step(self, batch):\n",
    "        inputs, targets = batch \n",
    "        # Generate predictions\n",
    "        out = self(inputs)          \n",
    "        # Calcuate loss\n",
    "        loss = F.mse_loss(out, targets)                          # fill this\n",
    "        return loss\n",
    "    \n",
    "    def validation_step(self, batch):\n",
    "        inputs, targets = batch\n",
    "        # Generate predictions\n",
    "        out = self(inputs)\n",
    "        # Calculate loss\n",
    "        loss = F.mse_loss(out,targets)                          # fill this    \n",
    "        return {'val_loss': loss.detach()}\n",
    "        \n",
    "    def validation_epoch_end(self, outputs):\n",
    "        batch_losses = [x['val_loss'] for x in outputs]\n",
    "        epoch_loss = torch.stack(batch_losses).mean()   # Combine losses\n",
    "        return {'val_loss': epoch_loss.item()}\n",
    "    \n",
    "    def epoch_end(self, epoch, result, num_epochs):\n",
    "        # Print result every 20th epoch\n",
    "        if (epoch+1) % 20 == 0 or epoch == num_epochs-1:\n",
    "            print(\"Epoch [{}], val_loss: {:.4f}\".format(epoch+1, result['val_loss']))"
   ]
  },
  {
   "cell_type": "code",
   "execution_count": null,
   "metadata": {},
   "outputs": [],
   "source": []
  },
  {
   "cell_type": "markdown",
   "metadata": {},
   "source": [
    "Let us create a model using the `InsuranceModel` class. You may need to come back later and re-run the next cell to reinitialize the model, in case the loss becomes `nan` or `infinity`."
   ]
  },
  {
   "cell_type": "code",
   "execution_count": 33,
   "metadata": {},
   "outputs": [],
   "source": [
    "\n",
    "model = InsuranceModel()"
   ]
  },
  {
   "cell_type": "markdown",
   "metadata": {},
   "source": [
    "Let's check out the weights and biases of the model using `model.parameters`."
   ]
  },
  {
   "cell_type": "code",
   "execution_count": 34,
   "metadata": {},
   "outputs": [
    {
     "data": {
      "text/plain": [
       "[Parameter containing:\n",
       " tensor([[-0.2866,  0.4144, -0.0585,  0.0845, -0.3871]], requires_grad=True),\n",
       " Parameter containing:\n",
       " tensor([0.0927], requires_grad=True)]"
      ]
     },
     "execution_count": 34,
     "metadata": {},
     "output_type": "execute_result"
    }
   ],
   "source": [
    "list(model.parameters())"
   ]
  },
  {
   "cell_type": "markdown",
   "metadata": {},
   "source": [
    "One final commit before we train the model."
   ]
  },
  {
   "cell_type": "code",
   "execution_count": 35,
   "metadata": {},
   "outputs": [
    {
     "data": {
      "application/javascript": [
       "window.require && require([\"base/js/namespace\"],function(Jupyter){Jupyter.notebook.save_checkpoint()})"
      ],
      "text/plain": [
       "<IPython.core.display.Javascript object>"
      ]
     },
     "metadata": {},
     "output_type": "display_data"
    },
    {
     "name": "stdout",
     "output_type": "stream",
     "text": [
      "[jovian] Updating notebook \"tjorgais002/02-insurance-linear-regression\" on https://jovian.ai\u001b[0m\n",
      "[jovian] Committed successfully! https://jovian.ai/tjorgais002/02-insurance-linear-regression\u001b[0m\n"
     ]
    },
    {
     "data": {
      "text/plain": [
       "'https://jovian.ai/tjorgais002/02-insurance-linear-regression'"
      ]
     },
     "execution_count": 35,
     "metadata": {},
     "output_type": "execute_result"
    }
   ],
   "source": [
    "jovian.commit(project=project_name, environment=None)"
   ]
  },
  {
   "cell_type": "markdown",
   "metadata": {},
   "source": [
    "## Step 4: Train the model to fit the data\n",
    "\n",
    "To train our model, we'll use the same `fit` function explained in the lecture. That's the benefit of defining a generic training loop - you can use it for any problem."
   ]
  },
  {
   "cell_type": "code",
   "execution_count": 36,
   "metadata": {},
   "outputs": [],
   "source": [
    "def evaluate(model, val_loader):\n",
    "    outputs = [model.validation_step(batch) for batch in val_loader]\n",
    "    return model.validation_epoch_end(outputs)\n",
    "\n",
    "def fit(epochs, lr, model, train_loader, val_loader, opt_func=torch.optim.SGD):\n",
    "    history = []\n",
    "    optimizer = opt_func(model.parameters(), lr)\n",
    "    for epoch in range(epochs):\n",
    "        # Training Phase \n",
    "        for batch in train_loader:\n",
    "            loss = model.training_step(batch)\n",
    "            loss.backward()\n",
    "            optimizer.step()\n",
    "            optimizer.zero_grad()\n",
    "        # Validation phase\n",
    "        result = evaluate(model, val_loader)\n",
    "        model.epoch_end(epoch, result, epochs)\n",
    "        history.append(result)\n",
    "    return history"
   ]
  },
  {
   "cell_type": "markdown",
   "metadata": {},
   "source": [
    "**Q: Use the `evaluate` function to calculate the loss on the validation set before training.**"
   ]
  },
  {
   "cell_type": "code",
   "execution_count": 37,
   "metadata": {},
   "outputs": [
    {
     "name": "stdout",
     "output_type": "stream",
     "text": [
      "{'val_loss': 351761445.7011819}\n"
     ]
    }
   ],
   "source": [
    "result = evaluate(model, val_loader) # Use the the evaluate function\n",
    "print(result)"
   ]
  },
  {
   "cell_type": "markdown",
   "metadata": {},
   "source": [
    "\n",
    "We are now ready to train the model. You may need to run the training loop many times, for different number of epochs and with different learning rates, to get a good result. Also, if your loss becomes too large (or `nan`), you may have to re-initialize the model by running the cell `model = InsuranceModel()`. Experiment with this for a while, and try to get to as low a loss as possible."
   ]
  },
  {
   "cell_type": "markdown",
   "metadata": {},
   "source": [
    "**Q: Train the model 4-5 times with different learning rates & for different number of epochs.**\n",
    "\n",
    "Hint: Vary learning rates by orders of 10 (e.g. `1e-2`, `1e-3`, `1e-4`, `1e-5`, `1e-6`) to figure out what works."
   ]
  },
  {
   "cell_type": "code",
   "execution_count": 38,
   "metadata": {},
   "outputs": [
    {
     "name": "stdout",
     "output_type": "stream",
     "text": [
      "Epoch [20], val_loss: 199602152.8304\n",
      "Epoch [40], val_loss: 134048965.0859\n",
      "Epoch [60], val_loss: 161876896.7403\n",
      "Epoch [80], val_loss: 119597281.9426\n",
      "Epoch [100], val_loss: 277608922.8076\n"
     ]
    }
   ],
   "source": [
    "epochs = 100\n",
    "lr = 0.0003\n",
    "history1 = fit(epochs, lr, model, train_loader, val_loader)"
   ]
  },
  {
   "cell_type": "code",
   "execution_count": 39,
   "metadata": {},
   "outputs": [
    {
     "name": "stdout",
     "output_type": "stream",
     "text": [
      "Epoch [20], val_loss: 152745656.8354\n",
      "Epoch [40], val_loss: 121664528.0690\n",
      "Epoch [60], val_loss: 97987542.0942\n",
      "Epoch [80], val_loss: 108019011.1244\n",
      "Epoch [100], val_loss: 131700447.2379\n",
      "Epoch [120], val_loss: 92713916.6206\n",
      "Epoch [140], val_loss: 131391677.3147\n",
      "Epoch [160], val_loss: 109098681.4053\n",
      "Epoch [180], val_loss: 80256896.9087\n",
      "Epoch [200], val_loss: 101400291.5170\n"
     ]
    }
   ],
   "source": [
    "epochs = 200\n",
    "lr = 0.0002\n",
    "history2 = fit(epochs, lr, model, train_loader, val_loader)"
   ]
  },
  {
   "cell_type": "code",
   "execution_count": 40,
   "metadata": {},
   "outputs": [
    {
     "name": "stdout",
     "output_type": "stream",
     "text": [
      "Epoch [20], val_loss: 133578575.2137\n",
      "Epoch [40], val_loss: 102677708.2513\n",
      "Epoch [60], val_loss: 73420969.3277\n",
      "Epoch [80], val_loss: 73549006.8522\n",
      "Epoch [100], val_loss: 69640171.2663\n",
      "Epoch [120], val_loss: 68577633.2888\n",
      "Epoch [140], val_loss: 78856237.0563\n",
      "Epoch [160], val_loss: 65052327.9769\n",
      "Epoch [180], val_loss: 75058952.2535\n",
      "Epoch [200], val_loss: 63042696.8340\n",
      "Epoch [220], val_loss: 71245357.8198\n",
      "Epoch [240], val_loss: 60740503.6578\n",
      "Epoch [260], val_loss: 64838101.0982\n",
      "Epoch [280], val_loss: 62890531.1747\n",
      "Epoch [300], val_loss: 59562521.3529\n"
     ]
    }
   ],
   "source": [
    "epochs = 300\n",
    "lr = 0.0002\n",
    "history2 = fit(epochs, lr, model, train_loader, val_loader)"
   ]
  },
  {
   "cell_type": "code",
   "execution_count": 41,
   "metadata": {},
   "outputs": [
    {
     "name": "stdout",
     "output_type": "stream",
     "text": [
      "Epoch [20], val_loss: 57556981.7818\n",
      "Epoch [40], val_loss: 57571798.8958\n",
      "Epoch [60], val_loss: 66150972.6934\n",
      "Epoch [80], val_loss: 68060304.4062\n",
      "Epoch [100], val_loss: 56493324.8277\n",
      "Epoch [120], val_loss: 67849523.7475\n",
      "Epoch [140], val_loss: 60719747.3651\n",
      "Epoch [160], val_loss: 55168004.0052\n",
      "Epoch [180], val_loss: 58436530.3059\n",
      "Epoch [200], val_loss: 54335375.6197\n",
      "Epoch [220], val_loss: 54172011.2533\n",
      "Epoch [240], val_loss: 53824834.6699\n",
      "Epoch [260], val_loss: 53332466.0269\n",
      "Epoch [280], val_loss: 56430824.6994\n",
      "Epoch [300], val_loss: 56100176.4102\n",
      "Epoch [320], val_loss: 52384297.3735\n",
      "Epoch [340], val_loss: 52238378.3008\n",
      "Epoch [360], val_loss: 52993741.3703\n",
      "Epoch [380], val_loss: 54570193.9959\n",
      "Epoch [400], val_loss: 52481299.9584\n",
      "Epoch [420], val_loss: 57011929.0433\n",
      "Epoch [440], val_loss: 51288456.8821\n",
      "Epoch [460], val_loss: 52849992.6914\n",
      "Epoch [480], val_loss: 54344589.6856\n",
      "Epoch [500], val_loss: 53051203.2487\n",
      "Epoch [520], val_loss: 51092428.9775\n",
      "Epoch [540], val_loss: 50291513.7697\n",
      "Epoch [560], val_loss: 50389007.2975\n",
      "Epoch [580], val_loss: 52947550.6375\n",
      "Epoch [600], val_loss: 50269422.0732\n",
      "Epoch [620], val_loss: 50893625.8483\n",
      "Epoch [640], val_loss: 49193020.8843\n",
      "Epoch [660], val_loss: 62101956.4002\n",
      "Epoch [680], val_loss: 52687836.2624\n",
      "Epoch [700], val_loss: 49525705.2373\n",
      "Epoch [720], val_loss: 48711151.8081\n",
      "Epoch [740], val_loss: 50596184.6054\n",
      "Epoch [760], val_loss: 54934896.5537\n",
      "Epoch [780], val_loss: 49745431.7120\n",
      "Epoch [800], val_loss: 49985111.8328\n",
      "Epoch [820], val_loss: 48547444.0884\n",
      "Epoch [840], val_loss: 64823117.8319\n",
      "Epoch [860], val_loss: 67564696.6704\n",
      "Epoch [880], val_loss: 47596774.8366\n",
      "Epoch [900], val_loss: 53295779.8058\n",
      "Epoch [920], val_loss: 47550491.9052\n",
      "Epoch [940], val_loss: 47315871.8774\n",
      "Epoch [960], val_loss: 50815555.0934\n",
      "Epoch [980], val_loss: 49599605.7435\n",
      "Epoch [1000], val_loss: 54642432.7175\n"
     ]
    }
   ],
   "source": [
    "epochs = 1000\n",
    "lr = 0.0001\n",
    "history3 = fit(epochs, lr, model, train_loader, val_loader)"
   ]
  },
  {
   "cell_type": "code",
   "execution_count": 42,
   "metadata": {
    "scrolled": true
   },
   "outputs": [
    {
     "name": "stdout",
     "output_type": "stream",
     "text": [
      "Epoch [20], val_loss: 49227729.0771\n",
      "Epoch [40], val_loss: 46827270.9129\n",
      "Epoch [60], val_loss: 46978160.7157\n",
      "Epoch [80], val_loss: 46712317.9740\n",
      "Epoch [100], val_loss: 47492011.1874\n",
      "Epoch [120], val_loss: 48978399.1148\n",
      "Epoch [140], val_loss: 48868064.6324\n",
      "Epoch [160], val_loss: 55468699.9711\n",
      "Epoch [180], val_loss: 49729840.1037\n",
      "Epoch [200], val_loss: 48444465.5776\n",
      "Epoch [220], val_loss: 47539229.9694\n",
      "Epoch [240], val_loss: 46215082.2635\n",
      "Epoch [260], val_loss: 46370972.7058\n",
      "Epoch [280], val_loss: 54659484.6622\n",
      "Epoch [300], val_loss: 46112817.9182\n",
      "Epoch [320], val_loss: 45909908.8286\n",
      "Epoch [340], val_loss: 53183888.8723\n",
      "Epoch [360], val_loss: 46428630.7686\n",
      "Epoch [380], val_loss: 46785021.4772\n",
      "Epoch [400], val_loss: 48257671.9658\n",
      "Epoch [420], val_loss: 45962247.4766\n",
      "Epoch [440], val_loss: 46263203.5301\n",
      "Epoch [460], val_loss: 50760614.1790\n",
      "Epoch [480], val_loss: 47222066.7857\n",
      "Epoch [500], val_loss: 46064563.0542\n",
      "Epoch [520], val_loss: 56627484.0214\n",
      "Epoch [540], val_loss: 45513420.0989\n",
      "Epoch [560], val_loss: 55085009.3947\n",
      "Epoch [580], val_loss: 49106211.6922\n",
      "Epoch [600], val_loss: 49557643.2144\n",
      "Epoch [620], val_loss: 45351617.9529\n",
      "Epoch [640], val_loss: 50595722.6508\n",
      "Epoch [660], val_loss: 50124707.4797\n",
      "Epoch [680], val_loss: 45376036.3218\n",
      "Epoch [700], val_loss: 49582997.0616\n",
      "Epoch [720], val_loss: 52182113.2341\n",
      "Epoch [740], val_loss: 46409269.6767\n",
      "Epoch [760], val_loss: 45885183.4722\n",
      "Epoch [780], val_loss: 45183401.3115\n",
      "Epoch [800], val_loss: 46549979.6631\n",
      "Epoch [820], val_loss: 45125183.5940\n",
      "Epoch [840], val_loss: 48866318.7493\n",
      "Epoch [860], val_loss: 57958333.2555\n",
      "Epoch [880], val_loss: 47595329.9882\n",
      "Epoch [900], val_loss: 45061687.5417\n",
      "Epoch [920], val_loss: 45647202.6671\n",
      "Epoch [940], val_loss: 45491313.6970\n",
      "Epoch [960], val_loss: 45082500.4390\n",
      "Epoch [980], val_loss: 61468620.4032\n",
      "Epoch [1000], val_loss: 45111263.6972\n"
     ]
    }
   ],
   "source": [
    "epochs = 1000\n",
    "lr = 0.0001\n",
    "history4 = fit(epochs, lr, model, train_loader, val_loader)"
   ]
  },
  {
   "cell_type": "code",
   "execution_count": 43,
   "metadata": {},
   "outputs": [
    {
     "name": "stdout",
     "output_type": "stream",
     "text": [
      "Epoch [20], val_loss: 52531574.7665\n",
      "Epoch [40], val_loss: 45515862.7942\n",
      "Epoch [60], val_loss: 46207147.5018\n",
      "Epoch [80], val_loss: 47129299.2168\n",
      "Epoch [100], val_loss: 44897059.4226\n",
      "Epoch [120], val_loss: 45378740.4165\n",
      "Epoch [140], val_loss: 45812252.4126\n",
      "Epoch [160], val_loss: 46309059.1638\n",
      "Epoch [180], val_loss: 45051740.8102\n",
      "Epoch [200], val_loss: 48118799.7273\n",
      "Epoch [220], val_loss: 46453565.3610\n",
      "Epoch [240], val_loss: 53971468.5433\n",
      "Epoch [260], val_loss: 46353662.1933\n",
      "Epoch [280], val_loss: 48211560.0167\n",
      "Epoch [300], val_loss: 45897399.7522\n",
      "Epoch [320], val_loss: 45916663.1987\n",
      "Epoch [340], val_loss: 45197922.3447\n",
      "Epoch [360], val_loss: 46927159.2220\n",
      "Epoch [380], val_loss: 44899199.3185\n",
      "Epoch [400], val_loss: 47254403.0588\n",
      "Epoch [420], val_loss: 48389429.5081\n",
      "Epoch [440], val_loss: 66607634.2550\n",
      "Epoch [460], val_loss: 47464735.5067\n",
      "Epoch [480], val_loss: 48637405.4396\n",
      "Epoch [500], val_loss: 48432899.6621\n",
      "Epoch [520], val_loss: 52821978.2897\n",
      "Epoch [540], val_loss: 45835522.8897\n",
      "Epoch [560], val_loss: 44811911.5320\n",
      "Epoch [580], val_loss: 50862013.2071\n",
      "Epoch [600], val_loss: 48308790.8786\n",
      "Epoch [620], val_loss: 44940059.5034\n",
      "Epoch [640], val_loss: 45769447.4093\n",
      "Epoch [660], val_loss: 45052725.9367\n",
      "Epoch [680], val_loss: 48454956.9468\n",
      "Epoch [700], val_loss: 44850030.3168\n",
      "Epoch [720], val_loss: 44701980.2608\n",
      "Epoch [740], val_loss: 45673822.8387\n",
      "Epoch [760], val_loss: 44668839.5324\n",
      "Epoch [780], val_loss: 50518312.8587\n",
      "Epoch [800], val_loss: 48512513.5497\n",
      "Epoch [820], val_loss: 51208300.6885\n",
      "Epoch [840], val_loss: 51526213.0450\n",
      "Epoch [860], val_loss: 47860705.8577\n",
      "Epoch [880], val_loss: 44744689.6466\n",
      "Epoch [900], val_loss: 50551943.9055\n",
      "Epoch [920], val_loss: 48655457.1364\n",
      "Epoch [940], val_loss: 50150813.9425\n",
      "Epoch [960], val_loss: 50421516.4834\n",
      "Epoch [980], val_loss: 46339246.0116\n",
      "Epoch [1000], val_loss: 44617857.7857\n"
     ]
    }
   ],
   "source": [
    "epochs = 1000\n",
    "lr = 0.0001\n",
    "history5 = fit(epochs, lr, model, train_loader, val_loader)"
   ]
  },
  {
   "cell_type": "markdown",
   "metadata": {},
   "source": [
    "**Q: What is the final validation loss of your model?**"
   ]
  },
  {
   "cell_type": "code",
   "execution_count": 46,
   "metadata": {},
   "outputs": [
    {
     "data": {
      "text/plain": [
       "tensor(6679.6600)"
      ]
     },
     "execution_count": 46,
     "metadata": {},
     "output_type": "execute_result"
    }
   ],
   "source": [
    "val_loss = torch.sqrt(torch.tensor(44617857.7857))\n",
    "val_loss"
   ]
  },
  {
   "cell_type": "markdown",
   "metadata": {},
   "source": [
    "Let's log the final validation loss to Jovian and commit the notebook"
   ]
  },
  {
   "cell_type": "code",
   "execution_count": 47,
   "metadata": {},
   "outputs": [
    {
     "name": "stdout",
     "output_type": "stream",
     "text": [
      "[jovian] Metrics logged.\u001b[0m\n"
     ]
    }
   ],
   "source": [
    "jovian.log_metrics(val_loss='6679.6600')"
   ]
  },
  {
   "cell_type": "code",
   "execution_count": 48,
   "metadata": {},
   "outputs": [
    {
     "data": {
      "application/javascript": [
       "window.require && require([\"base/js/namespace\"],function(Jupyter){Jupyter.notebook.save_checkpoint()})"
      ],
      "text/plain": [
       "<IPython.core.display.Javascript object>"
      ]
     },
     "metadata": {},
     "output_type": "display_data"
    },
    {
     "name": "stdout",
     "output_type": "stream",
     "text": [
      "[jovian] Creating a new project \"tjorgais002/Insurance_regression\"\u001b[0m\n",
      "[jovian] Attaching records (metrics, hyperparameters, dataset etc.)\u001b[0m\n",
      "[jovian] Committed successfully! https://jovian.ai/tjorgais002/insurance-regression\u001b[0m\n"
     ]
    },
    {
     "data": {
      "text/plain": [
       "'https://jovian.ai/tjorgais002/insurance-regression'"
      ]
     },
     "execution_count": 48,
     "metadata": {},
     "output_type": "execute_result"
    }
   ],
   "source": [
    "jovian.commit(project='Insurance_regression', environment=None)"
   ]
  },
  {
   "cell_type": "markdown",
   "metadata": {},
   "source": [
    "Now scroll back up, re-initialize the model, and try different set of values for batch size, number of epochs, learning rate etc. Commit each experiment and use the \"Compare\" and \"View Diff\" options on Jovian to compare the different results."
   ]
  },
  {
   "cell_type": "markdown",
   "metadata": {},
   "source": [
    "## Step 5: Make predictions using the trained model\n",
    "\n",
    "**Q: Complete the following function definition to make predictions on a single input**"
   ]
  },
  {
   "cell_type": "code",
   "execution_count": 49,
   "metadata": {},
   "outputs": [],
   "source": [
    "def predict_single(input, target, model):\n",
    "    inputs = input.unsqueeze(0)\n",
    "    predictions = model(input)                # fill this\n",
    "    prediction = predictions[0].detach()\n",
    "    print(\"Input:\", input)\n",
    "    print(\"Target:\", target)\n",
    "    print(\"Prediction:\", prediction)"
   ]
  },
  {
   "cell_type": "code",
   "execution_count": 50,
   "metadata": {},
   "outputs": [
    {
     "name": "stdout",
     "output_type": "stream",
     "text": [
      "Input: tensor([27.0000, 25.6410,  1.0000,  0.0000,  0.0000])\n",
      "Target: tensor([2831.4590])\n",
      "Prediction: tensor(4284.0864)\n"
     ]
    }
   ],
   "source": [
    "input, target = val_ds[0]\n",
    "predict_single(input, target, model)"
   ]
  },
  {
   "cell_type": "code",
   "execution_count": 51,
   "metadata": {},
   "outputs": [
    {
     "name": "stdout",
     "output_type": "stream",
     "text": [
      "Input: tensor([27.0000, 23.8317,  0.0000,  0.0000,  0.0000])\n",
      "Target: tensor([3822.9561])\n",
      "Prediction: tensor(4224.7772)\n"
     ]
    }
   ],
   "source": [
    "input, target = val_ds[10]\n",
    "predict_single(input, target, model)"
   ]
  },
  {
   "cell_type": "code",
   "execution_count": 52,
   "metadata": {},
   "outputs": [
    {
     "name": "stdout",
     "output_type": "stream",
     "text": [
      "Input: tensor([20.0000, 30.3030,  1.0000,  1.0000,  0.0000])\n",
      "Target: tensor([18505.4456])\n",
      "Prediction: tensor(29019.6431)\n"
     ]
    }
   ],
   "source": [
    "input, target = val_ds[23]\n",
    "predict_single(input, target, model)"
   ]
  },
  {
   "cell_type": "markdown",
   "metadata": {},
   "source": [
    "Are you happy with your model's predictions? Try to improve them further."
   ]
  },
  {
   "cell_type": "markdown",
   "metadata": {},
   "source": [
    "## (Optional) Step 6: Try another dataset & blog about it\n",
    "\n",
    "While this last step is optional for the submission of your assignment, we highly recommend that you do it. Try to replicate this notebook for a different linear regression or logistic regression problem. This will help solidify your understanding, and give you a chance to differentiate the generic patterns in machine learning from problem-specific details.You can use one of these starer notebooks (just change the dataset):\n",
    "\n",
    "- Linear regression (minimal): https://jovian.ai/aakashns/housing-linear-minimal\n",
    "- Logistic regression (minimal): https://jovian.ai/aakashns/mnist-logistic-minimal\n",
    "\n",
    "Here are some sources to find good datasets:\n",
    "\n",
    "- https://lionbridge.ai/datasets/10-open-datasets-for-linear-regression/\n",
    "- https://www.kaggle.com/rtatman/datasets-for-regression-analysis\n",
    "- https://archive.ics.uci.edu/ml/datasets.php?format=&task=reg&att=&area=&numAtt=&numIns=&type=&sort=nameUp&view=table\n",
    "- https://people.sc.fsu.edu/~jburkardt/datasets/regression/regression.html\n",
    "- https://archive.ics.uci.edu/ml/datasets/wine+quality\n",
    "- https://pytorch.org/docs/stable/torchvision/datasets.html\n",
    "\n",
    "We also recommend that you write a blog about your approach to the problem. Here is a suggested structure for your post (feel free to experiment with it):\n",
    "\n",
    "- Interesting title & subtitle\n",
    "- Overview of what the blog covers (which dataset, linear regression or logistic regression, intro to PyTorch)\n",
    "- Downloading & exploring the data\n",
    "- Preparing the data for training\n",
    "- Creating a model using PyTorch\n",
    "- Training the model to fit the data\n",
    "- Your thoughts on how to experiment with different hyperparmeters to reduce loss\n",
    "- Making predictions using the model\n",
    "\n",
    "As with the previous assignment, you can [embed Juptyer notebook cells & outputs from Jovian](https://medium.com/jovianml/share-and-embed-jupyter-notebooks-online-with-jovian-ml-df709a03064e) into your blog. \n",
    "\n",
    "Don't forget to share your work on the forum: https://jovian.ai/forum/t/linear-regression-and-logistic-regression-notebooks-and-blog-posts/14039"
   ]
  },
  {
   "cell_type": "code",
   "execution_count": null,
   "metadata": {},
   "outputs": [
    {
     "data": {
      "application/javascript": [
       "window.require && require([\"base/js/namespace\"],function(Jupyter){Jupyter.notebook.save_checkpoint()})"
      ],
      "text/plain": [
       "<IPython.core.display.Javascript object>"
      ]
     },
     "metadata": {},
     "output_type": "display_data"
    },
    {
     "name": "stdout",
     "output_type": "stream",
     "text": [
      "[jovian] Updating notebook \"tjorgais002/insurance-regression\" on https://jovian.ai\u001b[0m\n",
      "[jovian] Attaching records (metrics, hyperparameters, dataset etc.)\u001b[0m\n",
      "[jovian] Committed successfully! https://jovian.ai/tjorgais002/insurance-regression\u001b[0m\n"
     ]
    },
    {
     "data": {
      "application/javascript": [
       "window.require && require([\"base/js/namespace\"],function(Jupyter){Jupyter.notebook.save_checkpoint()})"
      ],
      "text/plain": [
       "<IPython.core.display.Javascript object>"
      ]
     },
     "metadata": {},
     "output_type": "display_data"
    }
   ],
   "source": [
    "jovian.commit(project='Insurance_regression', environment=None)\n",
    "jovian.commit(project='Insurance_regression', environment=None) # try again, kaggle fails sometimes"
   ]
  },
  {
   "cell_type": "code",
   "execution_count": null,
   "metadata": {},
   "outputs": [],
   "source": []
  }
 ],
 "metadata": {
  "language_info": {
   "codemirror_mode": {
    "name": "ipython",
    "version": 3
   },
   "file_extension": ".py",
   "mimetype": "text/x-python",
   "name": "python",
   "nbconvert_exporter": "python",
   "pygments_lexer": "ipython3",
   "version": "3.9.5"
  }
 },
 "nbformat": 4,
 "nbformat_minor": 4
}