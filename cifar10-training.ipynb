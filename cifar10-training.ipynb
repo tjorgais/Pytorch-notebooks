{
 "cells": [
  {
   "cell_type": "markdown",
   "id": "78626c57",
   "metadata": {
    "papermill": {
     "duration": 0.047938,
     "end_time": "2021-07-08T10:06:47.380829",
     "exception": false,
     "start_time": "2021-07-08T10:06:47.332891",
     "status": "completed"
    },
    "tags": []
   },
   "source": [
    "# Classifying images of everyday objects using a neural network\n",
    "\n",
    "The ability to try many different neural network architectures to address a problem is what makes deep learning really powerful, especially compared to shallow learning techniques like linear regression, logistic regression etc. \n",
    "\n",
    "In this assignment, you will:\n",
    "\n",
    "1. Explore the CIFAR10 dataset: https://www.cs.toronto.edu/~kriz/cifar.html\n",
    "2. Set up a training pipeline to train a neural network on a GPU\n",
    "2. Experiment with different network architectures & hyperparameters\n",
    "\n",
    "As you go through this notebook, you will find a **???** in certain places. Your job is to replace the **???** with appropriate code or values, to ensure that the notebook runs properly end-to-end. Try to experiment with different network structures and hypeparameters to get the lowest loss.\n",
    "\n",
    "You might find these notebooks useful for reference, as you work through this notebook:\n",
    "\n",
    "- https://jovian.ml/aakashns/04-feedforward-nn\n",
    "- https://jovian.ml/aakashns/fashion-feedforward-minimal"
   ]
  },
  {
   "cell_type": "code",
   "execution_count": 1,
   "id": "174589f5",
   "metadata": {
    "execution": {
     "iopub.execute_input": "2021-07-08T10:06:47.495695Z",
     "iopub.status.busy": "2021-07-08T10:06:47.494425Z",
     "iopub.status.idle": "2021-07-08T10:06:47.501723Z",
     "shell.execute_reply": "2021-07-08T10:06:47.498783Z"
    },
    "papermill": {
     "duration": 0.067212,
     "end_time": "2021-07-08T10:06:47.501873",
     "exception": false,
     "start_time": "2021-07-08T10:06:47.434661",
     "status": "completed"
    },
    "tags": []
   },
   "outputs": [],
   "source": [
    "# Uncomment and run the commands below if imports fail\n",
    "# !conda install numpy pandas pytorch torchvision cpuonly -c pytorch -y\n",
    "# !pip install matplotlib --upgrade --quiet"
   ]
  },
  {
   "cell_type": "code",
   "execution_count": 1,
   "id": "23351b35",
   "metadata": {
    "execution": {
     "iopub.execute_input": "2021-07-08T10:06:47.734317Z",
     "iopub.status.busy": "2021-07-08T10:06:47.733647Z",
     "iopub.status.idle": "2021-07-08T10:06:49.060900Z",
     "shell.execute_reply": "2021-07-08T10:06:49.059988Z",
     "shell.execute_reply.started": "2021-07-08T09:23:36.044255Z"
    },
    "papermill": {
     "duration": 1.487289,
     "end_time": "2021-07-08T10:06:49.061044",
     "exception": false,
     "start_time": "2021-07-08T10:06:47.573755",
     "status": "completed"
    },
    "tags": []
   },
   "outputs": [],
   "source": [
    "import torch\n",
    "import torchvision\n",
    "import numpy as np\n",
    "import matplotlib.pyplot as plt\n",
    "import torch.nn as nn\n",
    "import torch.nn.functional as F\n",
    "from torchvision.datasets import CIFAR10\n",
    "from torchvision.transforms import ToTensor\n",
    "from torchvision.utils import make_grid\n",
    "from torch.utils.data.dataloader import DataLoader\n",
    "from torch.utils.data import random_split\n",
    "%matplotlib inline"
   ]
  },
  {
   "cell_type": "code",
   "execution_count": 2,
   "id": "ca20322d",
   "metadata": {
    "execution": {
     "iopub.execute_input": "2021-07-08T10:06:49.159585Z",
     "iopub.status.busy": "2021-07-08T10:06:49.158755Z",
     "iopub.status.idle": "2021-07-08T10:06:49.161639Z",
     "shell.execute_reply": "2021-07-08T10:06:49.161191Z",
     "shell.execute_reply.started": "2021-07-08T09:23:38.099626Z"
    },
    "papermill": {
     "duration": 0.053085,
     "end_time": "2021-07-08T10:06:49.161752",
     "exception": false,
     "start_time": "2021-07-08T10:06:49.108667",
     "status": "completed"
    },
    "tags": []
   },
   "outputs": [],
   "source": [
    "# Project name used for jovian.commit\n",
    "project_name = '03-cifar10-feedforward'"
   ]
  },
  {
   "cell_type": "markdown",
   "id": "b02227d1",
   "metadata": {
    "papermill": {
     "duration": 0.046806,
     "end_time": "2021-07-08T10:06:49.255304",
     "exception": false,
     "start_time": "2021-07-08T10:06:49.208498",
     "status": "completed"
    },
    "tags": []
   },
   "source": [
    "## Exploring the CIFAR10 dataset"
   ]
  },
  {
   "cell_type": "code",
   "execution_count": 3,
   "id": "9e1edf0b",
   "metadata": {
    "execution": {
     "iopub.execute_input": "2021-07-08T10:06:49.353777Z",
     "iopub.status.busy": "2021-07-08T10:06:49.353044Z",
     "iopub.status.idle": "2021-07-08T10:06:54.586859Z",
     "shell.execute_reply": "2021-07-08T10:06:54.585928Z",
     "shell.execute_reply.started": "2021-07-08T09:23:39.462034Z"
    },
    "papermill": {
     "duration": 5.284876,
     "end_time": "2021-07-08T10:06:54.587008",
     "exception": false,
     "start_time": "2021-07-08T10:06:49.302132",
     "status": "completed"
    },
    "tags": []
   },
   "outputs": [
    {
     "name": "stdout",
     "output_type": "stream",
     "text": [
      "Downloading https://www.cs.toronto.edu/~kriz/cifar-10-python.tar.gz to data/cifar-10-python.tar.gz\n"
     ]
    },
    {
     "data": {
      "application/vnd.jupyter.widget-view+json": {
       "model_id": "b1e6dfc0106c472c9a604bcd03e69dce",
       "version_major": 2,
       "version_minor": 0
      },
      "text/plain": [
       "  0%|          | 0/170498071 [00:00<?, ?it/s]"
      ]
     },
     "metadata": {},
     "output_type": "display_data"
    },
    {
     "name": "stdout",
     "output_type": "stream",
     "text": [
      "Extracting data/cifar-10-python.tar.gz to data/\n"
     ]
    }
   ],
   "source": [
    "dataset = CIFAR10(root='data/', download=True, transform=ToTensor())\n",
    "test_dataset = CIFAR10(root='data/', train=False, transform=ToTensor())"
   ]
  },
  {
   "cell_type": "markdown",
   "id": "927a635e",
   "metadata": {
    "papermill": {
     "duration": 0.046987,
     "end_time": "2021-07-08T10:06:54.681433",
     "exception": false,
     "start_time": "2021-07-08T10:06:54.634446",
     "status": "completed"
    },
    "tags": []
   },
   "source": [
    "**Q: How many images does the training dataset contain?**"
   ]
  },
  {
   "cell_type": "code",
   "execution_count": 4,
   "id": "7b0b6332",
   "metadata": {
    "execution": {
     "iopub.execute_input": "2021-07-08T10:06:54.782248Z",
     "iopub.status.busy": "2021-07-08T10:06:54.781540Z",
     "iopub.status.idle": "2021-07-08T10:06:54.784415Z",
     "shell.execute_reply": "2021-07-08T10:06:54.784931Z",
     "shell.execute_reply.started": "2021-07-08T09:23:40.738001Z"
    },
    "papermill": {
     "duration": 0.056251,
     "end_time": "2021-07-08T10:06:54.785063",
     "exception": false,
     "start_time": "2021-07-08T10:06:54.728812",
     "status": "completed"
    },
    "tags": []
   },
   "outputs": [
    {
     "data": {
      "text/plain": [
       "50000"
      ]
     },
     "execution_count": 4,
     "metadata": {},
     "output_type": "execute_result"
    }
   ],
   "source": [
    "dataset_size = len(dataset)\n",
    "dataset_size"
   ]
  },
  {
   "cell_type": "markdown",
   "id": "943a5745",
   "metadata": {
    "papermill": {
     "duration": 0.046847,
     "end_time": "2021-07-08T10:06:54.878663",
     "exception": false,
     "start_time": "2021-07-08T10:06:54.831816",
     "status": "completed"
    },
    "tags": []
   },
   "source": [
    "**Q: How many images does the testing dataset contain?**"
   ]
  },
  {
   "cell_type": "code",
   "execution_count": 5,
   "id": "b6158d2f",
   "metadata": {
    "execution": {
     "iopub.execute_input": "2021-07-08T10:06:54.978518Z",
     "iopub.status.busy": "2021-07-08T10:06:54.977809Z",
     "iopub.status.idle": "2021-07-08T10:06:54.980654Z",
     "shell.execute_reply": "2021-07-08T10:06:54.981090Z",
     "shell.execute_reply.started": "2021-07-08T09:23:41.530041Z"
    },
    "papermill": {
     "duration": 0.054681,
     "end_time": "2021-07-08T10:06:54.981222",
     "exception": false,
     "start_time": "2021-07-08T10:06:54.926541",
     "status": "completed"
    },
    "tags": []
   },
   "outputs": [
    {
     "data": {
      "text/plain": [
       "10000"
      ]
     },
     "execution_count": 5,
     "metadata": {},
     "output_type": "execute_result"
    }
   ],
   "source": [
    "test_dataset_size = len(test_dataset)\n",
    "test_dataset_size"
   ]
  },
  {
   "cell_type": "markdown",
   "id": "e776ea50",
   "metadata": {
    "papermill": {
     "duration": 0.049164,
     "end_time": "2021-07-08T10:06:55.077786",
     "exception": false,
     "start_time": "2021-07-08T10:06:55.028622",
     "status": "completed"
    },
    "tags": []
   },
   "source": [
    "**Q: How many output classes does the dataset contain? Can you list them?**\n",
    "\n",
    "Hint: Use `dataset.classes`"
   ]
  },
  {
   "cell_type": "code",
   "execution_count": 6,
   "id": "3d7b0c7e",
   "metadata": {
    "execution": {
     "iopub.execute_input": "2021-07-08T10:06:55.178919Z",
     "iopub.status.busy": "2021-07-08T10:06:55.178218Z",
     "iopub.status.idle": "2021-07-08T10:06:55.181741Z",
     "shell.execute_reply": "2021-07-08T10:06:55.181287Z",
     "shell.execute_reply.started": "2021-07-08T09:23:42.011361Z"
    },
    "papermill": {
     "duration": 0.055936,
     "end_time": "2021-07-08T10:06:55.181861",
     "exception": false,
     "start_time": "2021-07-08T10:06:55.125925",
     "status": "completed"
    },
    "tags": []
   },
   "outputs": [
    {
     "data": {
      "text/plain": [
       "['airplane',\n",
       " 'automobile',\n",
       " 'bird',\n",
       " 'cat',\n",
       " 'deer',\n",
       " 'dog',\n",
       " 'frog',\n",
       " 'horse',\n",
       " 'ship',\n",
       " 'truck']"
      ]
     },
     "execution_count": 6,
     "metadata": {},
     "output_type": "execute_result"
    }
   ],
   "source": [
    "classes = dataset.classes\n",
    "classes"
   ]
  },
  {
   "cell_type": "code",
   "execution_count": 7,
   "id": "4ecbdb51",
   "metadata": {
    "execution": {
     "iopub.execute_input": "2021-07-08T10:06:55.282690Z",
     "iopub.status.busy": "2021-07-08T10:06:55.281955Z",
     "iopub.status.idle": "2021-07-08T10:06:55.285613Z",
     "shell.execute_reply": "2021-07-08T10:06:55.285192Z",
     "shell.execute_reply.started": "2021-07-08T09:23:42.235942Z"
    },
    "papermill": {
     "duration": 0.055723,
     "end_time": "2021-07-08T10:06:55.285728",
     "exception": false,
     "start_time": "2021-07-08T10:06:55.230005",
     "status": "completed"
    },
    "tags": []
   },
   "outputs": [
    {
     "data": {
      "text/plain": [
       "10"
      ]
     },
     "execution_count": 7,
     "metadata": {},
     "output_type": "execute_result"
    }
   ],
   "source": [
    "num_classes = len(classes)\n",
    "num_classes"
   ]
  },
  {
   "cell_type": "markdown",
   "id": "bdb995c5",
   "metadata": {
    "papermill": {
     "duration": 0.048146,
     "end_time": "2021-07-08T10:06:55.381729",
     "exception": false,
     "start_time": "2021-07-08T10:06:55.333583",
     "status": "completed"
    },
    "tags": []
   },
   "source": [
    "**Q: What is the shape of an image tensor from the dataset?**"
   ]
  },
  {
   "cell_type": "code",
   "execution_count": 8,
   "id": "f65bee6e",
   "metadata": {
    "execution": {
     "iopub.execute_input": "2021-07-08T10:06:55.489370Z",
     "iopub.status.busy": "2021-07-08T10:06:55.488796Z",
     "iopub.status.idle": "2021-07-08T10:06:55.515884Z",
     "shell.execute_reply": "2021-07-08T10:06:55.516298Z",
     "shell.execute_reply.started": "2021-07-08T09:23:42.632879Z"
    },
    "papermill": {
     "duration": 0.086315,
     "end_time": "2021-07-08T10:06:55.516456",
     "exception": false,
     "start_time": "2021-07-08T10:06:55.430141",
     "status": "completed"
    },
    "tags": []
   },
   "outputs": [
    {
     "data": {
      "text/plain": [
       "torch.Size([3, 32, 32])"
      ]
     },
     "execution_count": 8,
     "metadata": {},
     "output_type": "execute_result"
    }
   ],
   "source": [
    "img, label = dataset[0]\n",
    "img_shape = img.shape\n",
    "img_shape"
   ]
  },
  {
   "cell_type": "markdown",
   "id": "37df0c12",
   "metadata": {
    "papermill": {
     "duration": 0.049216,
     "end_time": "2021-07-08T10:06:55.614486",
     "exception": false,
     "start_time": "2021-07-08T10:06:55.565270",
     "status": "completed"
    },
    "tags": []
   },
   "source": [
    "Note that this dataset consists of 3-channel color images (RGB). Let us look at a sample image from the dataset. `matplotlib` expects channels to be the last dimension of the image tensors (whereas in PyTorch they are the first dimension), so we'll the `.permute` tensor method to shift channels to the last dimension. Let's also print the label for the image."
   ]
  },
  {
   "cell_type": "code",
   "execution_count": 9,
   "id": "36c829a4",
   "metadata": {
    "execution": {
     "iopub.execute_input": "2021-07-08T10:06:55.718704Z",
     "iopub.status.busy": "2021-07-08T10:06:55.717858Z",
     "iopub.status.idle": "2021-07-08T10:06:55.896703Z",
     "shell.execute_reply": "2021-07-08T10:06:55.895616Z",
     "shell.execute_reply.started": "2021-07-08T09:23:43.491896Z"
    },
    "papermill": {
     "duration": 0.233505,
     "end_time": "2021-07-08T10:06:55.896841",
     "exception": false,
     "start_time": "2021-07-08T10:06:55.663336",
     "status": "completed"
    },
    "tags": []
   },
   "outputs": [
    {
     "name": "stdout",
     "output_type": "stream",
     "text": [
      "Label (numeric): 6\n",
      "Label (textual): frog\n"
     ]
    },
    {
     "data": {
      "image/png": "[encoded data removed]",
      "text/plain": [
       "<Figure size 432x288 with 1 Axes>"
      ]
     },
     "metadata": {
      "needs_background": "light"
     },
     "output_type": "display_data"
    }
   ],
   "source": [
    "img, label = dataset[0]\n",
    "plt.imshow(img.permute((1, 2, 0)))\n",
    "print('Label (numeric):', label)\n",
    "print('Label (textual):', classes[label])"
   ]
  },
  {
   "cell_type": "markdown",
   "id": "ad897fe7",
   "metadata": {
    "papermill": {
     "duration": 0.049888,
     "end_time": "2021-07-08T10:06:56.349069",
     "exception": false,
     "start_time": "2021-07-08T10:06:56.299181",
     "status": "completed"
    },
    "tags": []
   },
   "source": [
    "**(Optional) Q: Can you determine the number of images belonging to each class?**\n",
    "\n",
    "Hint: Loop through the dataset."
   ]
  },
  {
   "cell_type": "code",
   "execution_count": 10,
   "id": "b5c637b1",
   "metadata": {
    "execution": {
     "iopub.execute_input": "2021-07-08T10:06:56.453144Z",
     "iopub.status.busy": "2021-07-08T10:06:56.452437Z",
     "iopub.status.idle": "2021-07-08T10:06:56.455560Z",
     "shell.execute_reply": "2021-07-08T10:06:56.456034Z",
     "shell.execute_reply.started": "2021-07-08T09:23:44.393266Z"
    },
    "papermill": {
     "duration": 0.057716,
     "end_time": "2021-07-08T10:06:56.456166",
     "exception": false,
     "start_time": "2021-07-08T10:06:56.398450",
     "status": "completed"
    },
    "tags": []
   },
   "outputs": [
    {
     "data": {
      "text/plain": [
       "['airplane',\n",
       " 'automobile',\n",
       " 'bird',\n",
       " 'cat',\n",
       " 'deer',\n",
       " 'dog',\n",
       " 'frog',\n",
       " 'horse',\n",
       " 'ship',\n",
       " 'truck']"
      ]
     },
     "execution_count": 10,
     "metadata": {},
     "output_type": "execute_result"
    }
   ],
   "source": [
    "classes1=classes.copy()\n",
    "classes1"
   ]
  },
  {
   "cell_type": "code",
   "execution_count": 11,
   "id": "6a1c7898",
   "metadata": {
    "execution": {
     "iopub.execute_input": "2021-07-08T10:06:56.559500Z",
     "iopub.status.busy": "2021-07-08T10:06:56.558936Z",
     "iopub.status.idle": "2021-07-08T10:07:01.897729Z",
     "shell.execute_reply": "2021-07-08T10:07:01.898590Z",
     "shell.execute_reply.started": "2021-07-08T09:23:44.744032Z"
    },
    "papermill": {
     "duration": 5.3936,
     "end_time": "2021-07-08T10:07:01.898816",
     "exception": false,
     "start_time": "2021-07-08T10:06:56.505216",
     "status": "completed"
    },
    "tags": []
   },
   "outputs": [
    {
     "name": "stdout",
     "output_type": "stream",
     "text": [
      "airplane : 5000\n",
      "automobile : 5000\n",
      "bird : 5000\n",
      "cat : 5000\n",
      "deer : 5000\n",
      "dog : 5000\n",
      "frog : 5000\n",
      "horse : 5000\n",
      "ship : 5000\n",
      "truck : 5000\n"
     ]
    }
   ],
   "source": [
    "for i in range(len(classes1)):\n",
    "    classes1[i]=0\n",
    "for i in range(len(dataset)):\n",
    "    img,leb=dataset[i]\n",
    "    classes1[leb]+=1\n",
    "for i in range(len(classes1)):\n",
    "    print(\"{0} : {1}\".format(classes[i], classes1[i]))"
   ]
  },
  {
   "cell_type": "markdown",
   "id": "25b1ddea",
   "metadata": {
    "papermill": {
     "duration": 0.049366,
     "end_time": "2021-07-08T10:07:02.001013",
     "exception": false,
     "start_time": "2021-07-08T10:07:01.951647",
     "status": "completed"
    },
    "tags": []
   },
   "source": [
    "Let's save our work to Jovian, before continuing."
   ]
  },
  {
   "cell_type": "code",
   "execution_count": 12,
   "id": "f11a0831",
   "metadata": {
    "execution": {
     "iopub.execute_input": "2021-07-08T10:07:02.112981Z",
     "iopub.status.busy": "2021-07-08T10:07:02.106511Z",
     "iopub.status.idle": "2021-07-08T10:07:11.093102Z",
     "shell.execute_reply": "2021-07-08T10:07:11.092197Z"
    },
    "papermill": {
     "duration": 9.041447,
     "end_time": "2021-07-08T10:07:11.093274",
     "exception": false,
     "start_time": "2021-07-08T10:07:02.051827",
     "status": "completed"
    },
    "tags": []
   },
   "outputs": [],
   "source": [
    "!pip install jovian --upgrade --quiet"
   ]
  },
  {
   "cell_type": "code",
   "execution_count": 13,
   "id": "bf88d1a2",
   "metadata": {
    "execution": {
     "iopub.execute_input": "2021-07-08T10:07:11.211224Z",
     "iopub.status.busy": "2021-07-08T10:07:11.210318Z",
     "iopub.status.idle": "2021-07-08T10:07:11.299071Z",
     "shell.execute_reply": "2021-07-08T10:07:11.298596Z"
    },
    "papermill": {
     "duration": 0.148954,
     "end_time": "2021-07-08T10:07:11.299205",
     "exception": false,
     "start_time": "2021-07-08T10:07:11.150251",
     "status": "completed"
    },
    "tags": []
   },
   "outputs": [],
   "source": [
    "import jovian"
   ]
  },
  {
   "cell_type": "code",
   "execution_count": null,
   "id": "16d2e8fa",
   "metadata": {
    "execution": {
     "iopub.execute_input": "2021-07-08T10:07:11.416727Z",
     "iopub.status.busy": "2021-07-08T10:07:11.416073Z",
     "iopub.status.idle": "2021-07-08T10:07:12.494547Z",
     "shell.execute_reply": "2021-07-08T10:07:12.494092Z"
    },
    "papermill": {
     "duration": 1.139484,
     "end_time": "2021-07-08T10:07:12.494690",
     "exception": false,
     "start_time": "2021-07-08T10:07:11.355206",
     "status": "completed"
    },
    "tags": []
   },
   "outputs": [
    {
     "data": {
      "application/javascript": [
       "window.require && require([\"base/js/namespace\"],function(Jupyter){Jupyter.notebook.save_checkpoint()})"
      ],
      "text/plain": [
       "<IPython.core.display.Javascript object>"
      ]
     },
     "metadata": {},
     "output_type": "display_data"
    }
   ],
   "source": [
    "jovian.commit(project=project_name, environment=None)"
   ]
  },
  {
   "cell_type": "markdown",
   "id": "27eb9c3a",
   "metadata": {
    "papermill": {
     "duration": 0.056713,
     "end_time": "2021-07-08T10:07:12.609988",
     "exception": false,
     "start_time": "2021-07-08T10:07:12.553275",
     "status": "completed"
    },
    "tags": []
   },
   "source": [
    "## Preparing the data for training\n",
    "\n",
    "We'll use a validation set with 5000 images (10% of the dataset). To ensure we get the same validation set each time, we'll set PyTorch's random number generator to a seed value of 43."
   ]
  },
  {
   "cell_type": "code",
   "execution_count": null,
   "id": "a68c2068",
   "metadata": {
    "execution": {
     "iopub.execute_input": "2021-07-08T10:07:12.727271Z",
     "iopub.status.busy": "2021-07-08T10:07:12.726527Z",
     "iopub.status.idle": "2021-07-08T10:07:12.732280Z",
     "shell.execute_reply": "2021-07-08T10:07:12.731739Z",
     "shell.execute_reply.started": "2021-07-08T09:23:51.194187Z"
    },
    "papermill": {
     "duration": 0.066965,
     "end_time": "2021-07-08T10:07:12.732417",
     "exception": false,
     "start_time": "2021-07-08T10:07:12.665452",
     "status": "completed"
    },
    "tags": []
   },
   "outputs": [],
   "source": [
    "torch.manual_seed(43)\n",
    "val_size = 5000\n",
    "train_size = len(dataset) - val_size"
   ]
  },
  {
   "cell_type": "markdown",
   "id": "8709bf36",
   "metadata": {
    "papermill": {
     "duration": 0.056091,
     "end_time": "2021-07-08T10:07:12.845204",
     "exception": false,
     "start_time": "2021-07-08T10:07:12.789113",
     "status": "completed"
    },
    "tags": []
   },
   "source": [
    "Let's use the `random_split` method to create the training & validation sets"
   ]
  },
  {
   "cell_type": "code",
   "execution_count": null,
   "id": "5bd5e1ec",
   "metadata": {
    "execution": {
     "iopub.execute_input": "2021-07-08T10:07:12.963322Z",
     "iopub.status.busy": "2021-07-08T10:07:12.962603Z",
     "iopub.status.idle": "2021-07-08T10:07:12.976735Z",
     "shell.execute_reply": "2021-07-08T10:07:12.976246Z",
     "shell.execute_reply.started": "2021-07-08T09:23:51.624037Z"
    },
    "papermill": {
     "duration": 0.075921,
     "end_time": "2021-07-08T10:07:12.976866",
     "exception": false,
     "start_time": "2021-07-08T10:07:12.900945",
     "status": "completed"
    },
    "tags": []
   },
   "outputs": [],
   "source": [
    "train_ds, val_ds = random_split(dataset, [train_size, val_size])\n",
    "len(train_ds), len(val_ds)"
   ]
  },
  {
   "cell_type": "markdown",
   "id": "b852b764",
   "metadata": {
    "papermill": {
     "duration": 0.057179,
     "end_time": "2021-07-08T10:07:13.093121",
     "exception": false,
     "start_time": "2021-07-08T10:07:13.035942",
     "status": "completed"
    },
    "tags": []
   },
   "source": [
    "We can now create data loaders to load the data in batches."
   ]
  },
  {
   "cell_type": "code",
   "execution_count": null,
   "id": "30ad9776",
   "metadata": {
    "execution": {
     "iopub.execute_input": "2021-07-08T10:07:13.212052Z",
     "iopub.status.busy": "2021-07-08T10:07:13.211198Z",
     "iopub.status.idle": "2021-07-08T10:07:13.214136Z",
     "shell.execute_reply": "2021-07-08T10:07:13.213559Z",
     "shell.execute_reply.started": "2021-07-08T09:23:52.110499Z"
    },
    "papermill": {
     "duration": 0.064345,
     "end_time": "2021-07-08T10:07:13.214253",
     "exception": false,
     "start_time": "2021-07-08T10:07:13.149908",
     "status": "completed"
    },
    "tags": []
   },
   "outputs": [],
   "source": [
    "batch_size=128"
   ]
  },
  {
   "cell_type": "code",
   "execution_count": null,
   "id": "ea4241bd",
   "metadata": {
    "execution": {
     "iopub.execute_input": "2021-07-08T10:07:13.328905Z",
     "iopub.status.busy": "2021-07-08T10:07:13.328129Z",
     "iopub.status.idle": "2021-07-08T10:07:13.331102Z",
     "shell.execute_reply": "2021-07-08T10:07:13.330649Z",
     "shell.execute_reply.started": "2021-07-08T09:23:52.352971Z"
    },
    "papermill": {
     "duration": 0.061979,
     "end_time": "2021-07-08T10:07:13.331229",
     "exception": false,
     "start_time": "2021-07-08T10:07:13.269250",
     "status": "completed"
    },
    "tags": []
   },
   "outputs": [],
   "source": [
    "train_loader = DataLoader(train_ds, batch_size, shuffle=True, num_workers=4, pin_memory=True)\n",
    "val_loader = DataLoader(val_ds, batch_size*2, num_workers=4, pin_memory=True)\n",
    "test_loader = DataLoader(test_dataset, batch_size*2, num_workers=4, pin_memory=True)"
   ]
  },
  {
   "cell_type": "markdown",
   "id": "6cca4a40",
   "metadata": {
    "papermill": {
     "duration": 0.055075,
     "end_time": "2021-07-08T10:07:13.440863",
     "exception": false,
     "start_time": "2021-07-08T10:07:13.385788",
     "status": "completed"
    },
    "tags": []
   },
   "source": [
    "Let's visualize a batch of data using the `make_grid` helper function from Torchvision."
   ]
  },
  {
   "cell_type": "code",
   "execution_count": null,
   "id": "79e8be8e",
   "metadata": {
    "execution": {
     "iopub.execute_input": "2021-07-08T10:07:13.595561Z",
     "iopub.status.busy": "2021-07-08T10:07:13.594860Z",
     "iopub.status.idle": "2021-07-08T10:07:18.642616Z",
     "shell.execute_reply": "2021-07-08T10:07:18.643040Z",
     "shell.execute_reply.started": "2021-07-08T09:23:52.852225Z"
    },
    "papermill": {
     "duration": 5.148908,
     "end_time": "2021-07-08T10:07:18.643187",
     "exception": false,
     "start_time": "2021-07-08T10:07:13.494279",
     "status": "completed"
    },
    "tags": []
   },
   "outputs": [],
   "source": [
    "for images, _ in train_loader:\n",
    "    print('images.shape:', images.shape)\n",
    "    plt.figure(figsize=(16,8))\n",
    "    plt.axis('off')\n",
    "    plt.imshow(make_grid(images, nrow=16).permute((1, 2, 0)))\n",
    "    break"
   ]
  },
  {
   "cell_type": "markdown",
   "id": "12183bef",
   "metadata": {
    "papermill": {
     "duration": 0.07592,
     "end_time": "2021-07-08T10:07:18.796695",
     "exception": false,
     "start_time": "2021-07-08T10:07:18.720775",
     "status": "completed"
    },
    "tags": []
   },
   "source": [
    "Can you label all the images by looking at them? Trying to label a random sample of the data manually is a good way to estimate the difficulty of the problem, and identify errors in labeling, if any."
   ]
  },
  {
   "cell_type": "markdown",
   "id": "51157cc6",
   "metadata": {
    "papermill": {
     "duration": 0.075449,
     "end_time": "2021-07-08T10:07:18.946297",
     "exception": false,
     "start_time": "2021-07-08T10:07:18.870848",
     "status": "completed"
    },
    "tags": []
   },
   "source": [
    "## Base Model class & Training on GPU\n",
    "\n",
    "Let's create a base model class, which contains everything except the model architecture i.e. it wil not contain the `__init__` and `__forward__` methods. We will later extend this class to try out different architectures. In fact, you can extend this model to solve any image classification problem."
   ]
  },
  {
   "cell_type": "code",
   "execution_count": null,
   "id": "fa554f9f",
   "metadata": {
    "execution": {
     "iopub.execute_input": "2021-07-08T10:07:19.105974Z",
     "iopub.status.busy": "2021-07-08T10:07:19.105267Z",
     "iopub.status.idle": "2021-07-08T10:07:19.109217Z",
     "shell.execute_reply": "2021-07-08T10:07:19.108710Z",
     "shell.execute_reply.started": "2021-07-08T09:23:55.404694Z"
    },
    "papermill": {
     "duration": 0.087165,
     "end_time": "2021-07-08T10:07:19.109346",
     "exception": false,
     "start_time": "2021-07-08T10:07:19.022181",
     "status": "completed"
    },
    "tags": []
   },
   "outputs": [],
   "source": [
    "def accuracy(outputs, labels):\n",
    "    _, preds = torch.max(outputs, dim=1)\n",
    "    return torch.tensor(torch.sum(preds == labels).item() / len(preds))"
   ]
  },
  {
   "cell_type": "code",
   "execution_count": null,
   "id": "8ce5df1f",
   "metadata": {
    "execution": {
     "iopub.execute_input": "2021-07-08T10:07:19.279814Z",
     "iopub.status.busy": "2021-07-08T10:07:19.278024Z",
     "iopub.status.idle": "2021-07-08T10:07:19.280555Z",
     "shell.execute_reply": "2021-07-08T10:07:19.281115Z",
     "shell.execute_reply.started": "2021-07-08T09:23:55.413064Z"
    },
    "papermill": {
     "duration": 0.094036,
     "end_time": "2021-07-08T10:07:19.281272",
     "exception": false,
     "start_time": "2021-07-08T10:07:19.187236",
     "status": "completed"
    },
    "tags": []
   },
   "outputs": [],
   "source": [
    "class ImageClassificationBase(nn.Module):\n",
    "    def training_step(self, batch):\n",
    "        images, labels = batch \n",
    "        out = self(images)                  # Generate predictions\n",
    "        loss = F.cross_entropy(out, labels) # Calculate loss\n",
    "        return loss\n",
    "    \n",
    "    def validation_step(self, batch):\n",
    "        images, labels = batch \n",
    "        out = self(images)                    # Generate predictions\n",
    "        loss = F.cross_entropy(out, labels)   # Calculate loss\n",
    "        acc = accuracy(out, labels)           # Calculate accuracy\n",
    "        return {'val_loss': loss.detach(), 'val_acc': acc}\n",
    "        \n",
    "    def validation_epoch_end(self, outputs):\n",
    "        batch_losses = [x['val_loss'] for x in outputs]\n",
    "        epoch_loss = torch.stack(batch_losses).mean()   # Combine losses\n",
    "        batch_accs = [x['val_acc'] for x in outputs]\n",
    "        epoch_acc = torch.stack(batch_accs).mean()      # Combine accuracies\n",
    "        return {'val_loss': epoch_loss.item(), 'val_acc': epoch_acc.item()}\n",
    "    \n",
    "    def epoch_end(self, epoch, result):\n",
    "        print(\"Epoch [{}], val_loss: {:.4f}, val_acc: {:.4f}\".format(epoch, result['val_loss'], result['val_acc']))"
   ]
  },
  {
   "cell_type": "markdown",
   "id": "4c3ce080",
   "metadata": {
    "papermill": {
     "duration": 0.080273,
     "end_time": "2021-07-08T10:07:19.441310",
     "exception": false,
     "start_time": "2021-07-08T10:07:19.361037",
     "status": "completed"
    },
    "tags": []
   },
   "source": [
    "We can also use the exact same training loop as before. I hope you're starting to see the benefits of refactoring our code into reusable functions."
   ]
  },
  {
   "cell_type": "code",
   "execution_count": null,
   "id": "e9969cb6",
   "metadata": {
    "execution": {
     "iopub.execute_input": "2021-07-08T10:07:19.597411Z",
     "iopub.status.busy": "2021-07-08T10:07:19.595904Z",
     "iopub.status.idle": "2021-07-08T10:07:19.598263Z",
     "shell.execute_reply": "2021-07-08T10:07:19.598711Z",
     "shell.execute_reply.started": "2021-07-08T09:23:55.428438Z"
    },
    "papermill": {
     "duration": 0.082406,
     "end_time": "2021-07-08T10:07:19.598849",
     "exception": false,
     "start_time": "2021-07-08T10:07:19.516443",
     "status": "completed"
    },
    "tags": []
   },
   "outputs": [],
   "source": [
    "def evaluate(model, val_loader):\n",
    "    outputs = [model.validation_step(batch) for batch in val_loader]\n",
    "    return model.validation_epoch_end(outputs)\n",
    "\n",
    "def fit(epochs, lr, model, train_loader, val_loader, opt_func=torch.optim.SGD):\n",
    "    history = []\n",
    "    optimizer = opt_func(model.parameters(), lr)\n",
    "    for epoch in range(epochs):\n",
    "        # Training Phase \n",
    "        for batch in train_loader:\n",
    "            loss = model.training_step(batch)\n",
    "            loss.backward()\n",
    "            optimizer.step()\n",
    "            optimizer.zero_grad()\n",
    "        # Validation phase\n",
    "        result = evaluate(model, val_loader)\n",
    "        model.epoch_end(epoch, result)\n",
    "        history.append(result)\n",
    "    return history"
   ]
  },
  {
   "cell_type": "markdown",
   "id": "6ce8aa78",
   "metadata": {
    "papermill": {
     "duration": 0.080753,
     "end_time": "2021-07-08T10:07:19.753205",
     "exception": false,
     "start_time": "2021-07-08T10:07:19.672452",
     "status": "completed"
    },
    "tags": []
   },
   "source": [
    "Finally, let's also define some utilities for moving out data & labels to the GPU, if one is available."
   ]
  },
  {
   "cell_type": "code",
   "execution_count": null,
   "id": "44c81eb7",
   "metadata": {
    "execution": {
     "iopub.execute_input": "2021-07-08T10:07:19.910176Z",
     "iopub.status.busy": "2021-07-08T10:07:19.909456Z",
     "iopub.status.idle": "2021-07-08T10:07:19.912980Z",
     "shell.execute_reply": "2021-07-08T10:07:19.913456Z",
     "shell.execute_reply.started": "2021-07-08T09:23:55.439583Z"
    },
    "papermill": {
     "duration": 0.08459,
     "end_time": "2021-07-08T10:07:19.913598",
     "exception": false,
     "start_time": "2021-07-08T10:07:19.829008",
     "status": "completed"
    },
    "tags": []
   },
   "outputs": [],
   "source": [
    "torch.cuda.is_available()"
   ]
  },
  {
   "cell_type": "code",
   "execution_count": null,
   "id": "be89b752",
   "metadata": {
    "execution": {
     "iopub.execute_input": "2021-07-08T10:07:20.080296Z",
     "iopub.status.busy": "2021-07-08T10:07:20.079766Z",
     "iopub.status.idle": "2021-07-08T10:07:20.083841Z",
     "shell.execute_reply": "2021-07-08T10:07:20.083426Z",
     "shell.execute_reply.started": "2021-07-08T09:23:55.450766Z"
    },
    "papermill": {
     "duration": 0.089997,
     "end_time": "2021-07-08T10:07:20.083958",
     "exception": false,
     "start_time": "2021-07-08T10:07:19.993961",
     "status": "completed"
    },
    "tags": []
   },
   "outputs": [],
   "source": [
    "def get_default_device():\n",
    "    \"\"\"Pick GPU if available, else CPU\"\"\"\n",
    "    if torch.cuda.is_available():\n",
    "        return torch.device('cuda')\n",
    "    else:\n",
    "        return torch.device('cpu')"
   ]
  },
  {
   "cell_type": "code",
   "execution_count": null,
   "id": "6c0fa660",
   "metadata": {
    "execution": {
     "iopub.execute_input": "2021-07-08T10:07:20.241751Z",
     "iopub.status.busy": "2021-07-08T10:07:20.241006Z",
     "iopub.status.idle": "2021-07-08T10:07:20.246361Z",
     "shell.execute_reply": "2021-07-08T10:07:20.245931Z",
     "shell.execute_reply.started": "2021-07-08T09:23:55.458785Z"
    },
    "papermill": {
     "duration": 0.087483,
     "end_time": "2021-07-08T10:07:20.246503",
     "exception": false,
     "start_time": "2021-07-08T10:07:20.159020",
     "status": "completed"
    },
    "tags": []
   },
   "outputs": [],
   "source": [
    "device = get_default_device()\n",
    "device"
   ]
  },
  {
   "cell_type": "code",
   "execution_count": null,
   "id": "5ecfbac2",
   "metadata": {
    "execution": {
     "iopub.execute_input": "2021-07-08T10:07:20.407268Z",
     "iopub.status.busy": "2021-07-08T10:07:20.405476Z",
     "iopub.status.idle": "2021-07-08T10:07:20.407959Z",
     "shell.execute_reply": "2021-07-08T10:07:20.408400Z",
     "shell.execute_reply.started": "2021-07-08T09:23:55.475597Z"
    },
    "papermill": {
     "duration": 0.085335,
     "end_time": "2021-07-08T10:07:20.408578",
     "exception": false,
     "start_time": "2021-07-08T10:07:20.323243",
     "status": "completed"
    },
    "tags": []
   },
   "outputs": [],
   "source": [
    "def to_device(data, device):\n",
    "    \"\"\"Move tensor(s) to chosen device\"\"\"\n",
    "    if isinstance(data, (list,tuple)):\n",
    "        return [to_device(x, device) for x in data]\n",
    "    return data.to(device, non_blocking=True)\n",
    "\n",
    "class DeviceDataLoader():\n",
    "    \"\"\"Wrap a dataloader to move data to a device\"\"\"\n",
    "    def __init__(self, dl, device):\n",
    "        self.dl = dl\n",
    "        self.device = device\n",
    "        \n",
    "    def __iter__(self):\n",
    "        \"\"\"Yield a batch of data after moving it to device\"\"\"\n",
    "        for b in self.dl: \n",
    "            yield to_device(b, self.device)\n",
    "\n",
    "    def __len__(self):\n",
    "        \"\"\"Number of batches\"\"\"\n",
    "        return len(self.dl)"
   ]
  },
  {
   "cell_type": "markdown",
   "id": "7daaf09b",
   "metadata": {
    "papermill": {
     "duration": 0.074454,
     "end_time": "2021-07-08T10:07:20.559165",
     "exception": false,
     "start_time": "2021-07-08T10:07:20.484711",
     "status": "completed"
    },
    "tags": []
   },
   "source": [
    "Let us also define a couple of helper functions for plotting the losses & accuracies."
   ]
  },
  {
   "cell_type": "code",
   "execution_count": 28,
   "id": "f29f0708",
   "metadata": {
    "execution": {
     "iopub.execute_input": "2021-07-08T10:07:20.711120Z",
     "iopub.status.busy": "2021-07-08T10:07:20.710486Z",
     "iopub.status.idle": "2021-07-08T10:07:20.714746Z",
     "shell.execute_reply": "2021-07-08T10:07:20.714190Z",
     "shell.execute_reply.started": "2021-07-08T09:23:55.485709Z"
    },
    "papermill": {
     "duration": 0.082594,
     "end_time": "2021-07-08T10:07:20.714881",
     "exception": false,
     "start_time": "2021-07-08T10:07:20.632287",
     "status": "completed"
    },
    "tags": []
   },
   "outputs": [],
   "source": [
    "def plot_losses(history):\n",
    "    losses = [x['val_loss'] for x in history]\n",
    "    plt.plot(losses, '-x')\n",
    "    plt.xlabel('epoch')\n",
    "    plt.ylabel('loss')\n",
    "    plt.title('Loss vs. No. of epochs');"
   ]
  },
  {
   "cell_type": "code",
   "execution_count": 29,
   "id": "c8ba0c03",
   "metadata": {
    "execution": {
     "iopub.execute_input": "2021-07-08T10:07:20.871461Z",
     "iopub.status.busy": "2021-07-08T10:07:20.869974Z",
     "iopub.status.idle": "2021-07-08T10:07:20.872579Z",
     "shell.execute_reply": "2021-07-08T10:07:20.873143Z",
     "shell.execute_reply.started": "2021-07-08T09:23:55.495806Z"
    },
    "papermill": {
     "duration": 0.08409,
     "end_time": "2021-07-08T10:07:20.873294",
     "exception": false,
     "start_time": "2021-07-08T10:07:20.789204",
     "status": "completed"
    },
    "tags": []
   },
   "outputs": [],
   "source": [
    "def plot_accuracies(history):\n",
    "    accuracies = [x['val_acc'] for x in history]\n",
    "    plt.plot(accuracies, '-x')\n",
    "    plt.xlabel('epoch')\n",
    "    plt.ylabel('accuracy')\n",
    "    plt.title('Accuracy vs. No. of epochs');"
   ]
  },
  {
   "cell_type": "markdown",
   "id": "c5e304fb",
   "metadata": {
    "papermill": {
     "duration": 0.080778,
     "end_time": "2021-07-08T10:07:21.028419",
     "exception": false,
     "start_time": "2021-07-08T10:07:20.947641",
     "status": "completed"
    },
    "tags": []
   },
   "source": [
    "Let's move our data loaders to the appropriate device."
   ]
  },
  {
   "cell_type": "code",
   "execution_count": 30,
   "id": "f5b8253f",
   "metadata": {
    "execution": {
     "iopub.execute_input": "2021-07-08T10:07:21.186511Z",
     "iopub.status.busy": "2021-07-08T10:07:21.185945Z",
     "iopub.status.idle": "2021-07-08T10:07:21.189720Z",
     "shell.execute_reply": "2021-07-08T10:07:21.190106Z",
     "shell.execute_reply.started": "2021-07-08T09:23:55.690328Z"
    },
    "papermill": {
     "duration": 0.08391,
     "end_time": "2021-07-08T10:07:21.190247",
     "exception": false,
     "start_time": "2021-07-08T10:07:21.106337",
     "status": "completed"
    },
    "tags": []
   },
   "outputs": [],
   "source": [
    "train_loader = DeviceDataLoader(train_loader, device)\n",
    "val_loader = DeviceDataLoader(val_loader, device)\n",
    "test_loader = DeviceDataLoader(test_loader, device)"
   ]
  },
  {
   "cell_type": "markdown",
   "id": "679b7834",
   "metadata": {
    "papermill": {
     "duration": 0.078764,
     "end_time": "2021-07-08T10:07:21.348752",
     "exception": false,
     "start_time": "2021-07-08T10:07:21.269988",
     "status": "completed"
    },
    "tags": []
   },
   "source": [
    "## Training the model\n",
    "\n",
    "We will make several attempts at training the model. Each time, try a different architecture and a different set of learning rates. Here are some ideas to try:\n",
    "- Increase or decrease the number of hidden layers\n",
    "- Increase of decrease the size of each hidden layer\n",
    "- Try different activation functions\n",
    "- Try training for different number of epochs\n",
    "- Try different learning rates in every epoch\n",
    "\n",
    "What's the highest validation accuracy you can get to? **Can you get to 50% accuracy? What about 60%?**"
   ]
  },
  {
   "cell_type": "code",
   "execution_count": 31,
   "id": "9541ef13",
   "metadata": {
    "execution": {
     "iopub.execute_input": "2021-07-08T10:07:21.513217Z",
     "iopub.status.busy": "2021-07-08T10:07:21.511453Z",
     "iopub.status.idle": "2021-07-08T10:07:21.513881Z",
     "shell.execute_reply": "2021-07-08T10:07:21.514286Z",
     "shell.execute_reply.started": "2021-07-08T09:23:56.110463Z"
    },
    "papermill": {
     "duration": 0.087981,
     "end_time": "2021-07-08T10:07:21.514459",
     "exception": false,
     "start_time": "2021-07-08T10:07:21.426478",
     "status": "completed"
    },
    "tags": []
   },
   "outputs": [],
   "source": [
    "input_size = 3*32*32\n",
    "output_size = 10"
   ]
  },
  {
   "cell_type": "markdown",
   "id": "8b1be496",
   "metadata": {
    "papermill": {
     "duration": 0.074597,
     "end_time": "2021-07-08T10:07:21.669935",
     "exception": false,
     "start_time": "2021-07-08T10:07:21.595338",
     "status": "completed"
    },
    "tags": []
   },
   "source": [
    "\n",
    "**Q: Extend the `ImageClassificationBase` class to complete the model definition.**\n",
    "\n",
    "Hint: Define the `__init__` and `forward` methods."
   ]
  },
  {
   "cell_type": "code",
   "execution_count": 32,
   "id": "1832f328",
   "metadata": {
    "execution": {
     "iopub.execute_input": "2021-07-08T10:07:21.826241Z",
     "iopub.status.busy": "2021-07-08T10:07:21.825436Z",
     "iopub.status.idle": "2021-07-08T10:07:21.828140Z",
     "shell.execute_reply": "2021-07-08T10:07:21.827674Z",
     "shell.execute_reply.started": "2021-07-08T09:41:39.793191Z"
    },
    "papermill": {
     "duration": 0.082364,
     "end_time": "2021-07-08T10:07:21.828250",
     "exception": false,
     "start_time": "2021-07-08T10:07:21.745886",
     "status": "completed"
    },
    "tags": []
   },
   "outputs": [],
   "source": [
    "hidden_size1=128\n",
    "hidden_size2=64"
   ]
  },
  {
   "cell_type": "code",
   "execution_count": 33,
   "id": "6b232642",
   "metadata": {
    "execution": {
     "iopub.execute_input": "2021-07-08T10:07:21.984517Z",
     "iopub.status.busy": "2021-07-08T10:07:21.983635Z",
     "iopub.status.idle": "2021-07-08T10:07:21.986408Z",
     "shell.execute_reply": "2021-07-08T10:07:21.985969Z",
     "shell.execute_reply.started": "2021-07-08T09:41:40.286378Z"
    },
    "papermill": {
     "duration": 0.084688,
     "end_time": "2021-07-08T10:07:21.986526",
     "exception": false,
     "start_time": "2021-07-08T10:07:21.901838",
     "status": "completed"
    },
    "tags": []
   },
   "outputs": [],
   "source": [
    "class CIFAR10Model(ImageClassificationBase):\n",
    "    def __init__(self):\n",
    "        super().__init__()\n",
    "        self.linear1=nn.Linear(input_size, hidden_size1)\n",
    "        self.linear2=nn.Linear(hidden_size1, hidden_size2 )\n",
    "        self.linear3=nn.Linear(hidden_size2, output_size)\n",
    "        \n",
    "    def forward(self, xb):\n",
    "        # Flatten images into vectors\n",
    "        xb = xb.view(xb.size(0), -1)\n",
    "        # Apply layers & activation functions\n",
    "        out=self.linear1(xb)\n",
    "        out=F.relu(out)\n",
    "        out=self.linear2(out)\n",
    "        out=F.relu(out)\n",
    "        out=self.linear3(out)\n",
    "        return out"
   ]
  },
  {
   "cell_type": "markdown",
   "id": "815ced5d",
   "metadata": {
    "papermill": {
     "duration": 0.076174,
     "end_time": "2021-07-08T10:07:22.140592",
     "exception": false,
     "start_time": "2021-07-08T10:07:22.064418",
     "status": "completed"
    },
    "tags": []
   },
   "source": [
    "You can now instantiate the model, and move it the appropriate device."
   ]
  },
  {
   "cell_type": "code",
   "execution_count": 34,
   "id": "da593309",
   "metadata": {
    "execution": {
     "iopub.execute_input": "2021-07-08T10:07:22.295153Z",
     "iopub.status.busy": "2021-07-08T10:07:22.294258Z",
     "iopub.status.idle": "2021-07-08T10:07:22.308241Z",
     "shell.execute_reply": "2021-07-08T10:07:22.307823Z",
     "shell.execute_reply.started": "2021-07-08T10:02:08.418765Z"
    },
    "papermill": {
     "duration": 0.092634,
     "end_time": "2021-07-08T10:07:22.308359",
     "exception": false,
     "start_time": "2021-07-08T10:07:22.215725",
     "status": "completed"
    },
    "tags": []
   },
   "outputs": [],
   "source": [
    "model = to_device(CIFAR10Model(), device)"
   ]
  },
  {
   "cell_type": "markdown",
   "id": "f35a1a37",
   "metadata": {
    "papermill": {
     "duration": 0.074911,
     "end_time": "2021-07-08T10:07:22.457371",
     "exception": false,
     "start_time": "2021-07-08T10:07:22.382460",
     "status": "completed"
    },
    "tags": []
   },
   "source": [
    "Before you train the model, it's a good idea to check the validation loss & accuracy with the initial set of weights."
   ]
  },
  {
   "cell_type": "code",
   "execution_count": 35,
   "id": "764693f5",
   "metadata": {
    "execution": {
     "iopub.execute_input": "2021-07-08T10:07:22.688168Z",
     "iopub.status.busy": "2021-07-08T10:07:22.686827Z",
     "iopub.status.idle": "2021-07-08T10:07:24.351073Z",
     "shell.execute_reply": "2021-07-08T10:07:24.351927Z",
     "shell.execute_reply.started": "2021-07-08T09:41:41.360903Z"
    },
    "papermill": {
     "duration": 1.786505,
     "end_time": "2021-07-08T10:07:24.352127",
     "exception": false,
     "start_time": "2021-07-08T10:07:22.565622",
     "status": "completed"
    },
    "tags": []
   },
   "outputs": [
    {
     "data": {
      "text/plain": [
       "[{'val_loss': 2.30427622795105, 'val_acc': 0.0892348363995552}]"
      ]
     },
     "execution_count": 35,
     "metadata": {},
     "output_type": "execute_result"
    }
   ],
   "source": [
    "history = [evaluate(model, val_loader)]\n",
    "history"
   ]
  },
  {
   "cell_type": "markdown",
   "id": "7ee0db8a",
   "metadata": {
    "papermill": {
     "duration": 0.085145,
     "end_time": "2021-07-08T10:07:24.518353",
     "exception": false,
     "start_time": "2021-07-08T10:07:24.433208",
     "status": "completed"
    },
    "tags": []
   },
   "source": [
    "**Q: Train the model using the `fit` function to reduce the validation loss & improve accuracy.**\n",
    "\n",
    "Leverage the interactive nature of Jupyter to train the model in multiple phases, adjusting the no. of epochs & learning rate each time based on the result of the previous training phase."
   ]
  },
  {
   "cell_type": "code",
   "execution_count": 36,
   "id": "015fdbef",
   "metadata": {
    "execution": {
     "iopub.execute_input": "2021-07-08T10:07:24.669781Z",
     "iopub.status.busy": "2021-07-08T10:07:24.668136Z",
     "iopub.status.idle": "2021-07-08T10:08:30.251061Z",
     "shell.execute_reply": "2021-07-08T10:08:30.251684Z",
     "shell.execute_reply.started": "2021-07-08T10:02:12.441902Z"
    },
    "papermill": {
     "duration": 65.660102,
     "end_time": "2021-07-08T10:08:30.251888",
     "exception": false,
     "start_time": "2021-07-08T10:07:24.591786",
     "status": "completed"
    },
    "tags": []
   },
   "outputs": [
    {
     "name": "stdout",
     "output_type": "stream",
     "text": [
      "Epoch [0], val_loss: 1.9022, val_acc: 0.2894\n",
      "Epoch [1], val_loss: 1.7975, val_acc: 0.3545\n",
      "Epoch [2], val_loss: 1.7276, val_acc: 0.3779\n",
      "Epoch [3], val_loss: 1.6357, val_acc: 0.4187\n",
      "Epoch [4], val_loss: 1.8868, val_acc: 0.3404\n",
      "Epoch [5], val_loss: 1.6105, val_acc: 0.4171\n",
      "Epoch [6], val_loss: 1.5920, val_acc: 0.4225\n",
      "Epoch [7], val_loss: 1.5984, val_acc: 0.4322\n",
      "Epoch [8], val_loss: 1.5792, val_acc: 0.4335\n",
      "Epoch [9], val_loss: 1.5647, val_acc: 0.4480\n"
     ]
    }
   ],
   "source": [
    "history += fit(10, 0.1, model, train_loader, val_loader)"
   ]
  },
  {
   "cell_type": "code",
   "execution_count": 37,
   "id": "5f20a3fe",
   "metadata": {
    "execution": {
     "iopub.execute_input": "2021-07-08T10:08:30.406343Z",
     "iopub.status.busy": "2021-07-08T10:08:30.405845Z",
     "iopub.status.idle": "2021-07-08T10:09:02.983008Z",
     "shell.execute_reply": "2021-07-08T10:09:02.983462Z",
     "shell.execute_reply.started": "2021-07-08T10:03:17.580172Z"
    },
    "papermill": {
     "duration": 32.656772,
     "end_time": "2021-07-08T10:09:02.983609",
     "exception": false,
     "start_time": "2021-07-08T10:08:30.326837",
     "status": "completed"
    },
    "tags": []
   },
   "outputs": [
    {
     "name": "stdout",
     "output_type": "stream",
     "text": [
      "Epoch [0], val_loss: 1.4845, val_acc: 0.4691\n",
      "Epoch [1], val_loss: 1.4871, val_acc: 0.4710\n",
      "Epoch [2], val_loss: 1.4557, val_acc: 0.4828\n",
      "Epoch [3], val_loss: 1.4550, val_acc: 0.4855\n",
      "Epoch [4], val_loss: 1.4872, val_acc: 0.4783\n"
     ]
    }
   ],
   "source": [
    "history += fit(5, 0.05, model, train_loader, val_loader)"
   ]
  },
  {
   "cell_type": "code",
   "execution_count": 38,
   "id": "6aa203e4",
   "metadata": {
    "execution": {
     "iopub.execute_input": "2021-07-08T10:09:03.138494Z",
     "iopub.status.busy": "2021-07-08T10:09:03.137665Z",
     "iopub.status.idle": "2021-07-08T10:09:35.521621Z",
     "shell.execute_reply": "2021-07-08T10:09:35.522256Z",
     "shell.execute_reply.started": "2021-07-08T10:03:50.475626Z"
    },
    "papermill": {
     "duration": 32.463152,
     "end_time": "2021-07-08T10:09:35.522479",
     "exception": false,
     "start_time": "2021-07-08T10:09:03.059327",
     "status": "completed"
    },
    "tags": []
   },
   "outputs": [
    {
     "name": "stdout",
     "output_type": "stream",
     "text": [
      "Epoch [0], val_loss: 1.4059, val_acc: 0.5024\n",
      "Epoch [1], val_loss: 1.4052, val_acc: 0.5026\n",
      "Epoch [2], val_loss: 1.4033, val_acc: 0.5020\n",
      "Epoch [3], val_loss: 1.4036, val_acc: 0.5010\n",
      "Epoch [4], val_loss: 1.4012, val_acc: 0.5016\n"
     ]
    }
   ],
   "source": [
    "history += fit(5, 0.005, model, train_loader, val_loader)"
   ]
  },
  {
   "cell_type": "code",
   "execution_count": 39,
   "id": "5b1ea64d",
   "metadata": {
    "execution": {
     "iopub.execute_input": "2021-07-08T10:09:35.685901Z",
     "iopub.status.busy": "2021-07-08T10:09:35.685106Z",
     "iopub.status.idle": "2021-07-08T10:10:08.237784Z",
     "shell.execute_reply": "2021-07-08T10:10:08.238462Z",
     "shell.execute_reply.started": "2021-07-08T10:04:23.272330Z"
    },
    "papermill": {
     "duration": 32.638,
     "end_time": "2021-07-08T10:10:08.238664",
     "exception": false,
     "start_time": "2021-07-08T10:09:35.600664",
     "status": "completed"
    },
    "tags": []
   },
   "outputs": [
    {
     "name": "stdout",
     "output_type": "stream",
     "text": [
      "Epoch [0], val_loss: 1.3979, val_acc: 0.5044\n",
      "Epoch [1], val_loss: 1.3979, val_acc: 0.5050\n",
      "Epoch [2], val_loss: 1.3978, val_acc: 0.5059\n",
      "Epoch [3], val_loss: 1.3979, val_acc: 0.5045\n",
      "Epoch [4], val_loss: 1.3977, val_acc: 0.5055\n"
     ]
    }
   ],
   "source": [
    "history += fit(5, 0.0005, model, train_loader, val_loader)"
   ]
  },
  {
   "cell_type": "markdown",
   "id": "234632d6",
   "metadata": {
    "papermill": {
     "duration": 0.076987,
     "end_time": "2021-07-08T10:10:08.437551",
     "exception": false,
     "start_time": "2021-07-08T10:10:08.360564",
     "status": "completed"
    },
    "tags": []
   },
   "source": [
    "Plot the losses and the accuracies to check if you're starting to hit the limits of how well your model can perform on this dataset. You can train some more if you can see the scope for further improvement."
   ]
  },
  {
   "cell_type": "code",
   "execution_count": 40,
   "id": "8370eaf2",
   "metadata": {
    "execution": {
     "iopub.execute_input": "2021-07-08T10:10:08.624213Z",
     "iopub.status.busy": "2021-07-08T10:10:08.623279Z",
     "iopub.status.idle": "2021-07-08T10:10:08.724986Z",
     "shell.execute_reply": "2021-07-08T10:10:08.725421Z",
     "shell.execute_reply.started": "2021-07-08T10:01:36.002800Z"
    },
    "papermill": {
     "duration": 0.210586,
     "end_time": "2021-07-08T10:10:08.725558",
     "exception": false,
     "start_time": "2021-07-08T10:10:08.514972",
     "status": "completed"
    },
    "tags": []
   },
   "outputs": [
    {
     "data": {
      "image/png": "[encoded data removed]",
      "text/plain": [
       "<Figure size 432x288 with 1 Axes>"
      ]
     },
     "metadata": {
      "needs_background": "light"
     },
     "output_type": "display_data"
    }
   ],
   "source": [
    "plot_losses(history)"
   ]
  },
  {
   "cell_type": "code",
   "execution_count": 41,
   "id": "ae71cef4",
   "metadata": {
    "execution": {
     "iopub.execute_input": "2021-07-08T10:10:08.906962Z",
     "iopub.status.busy": "2021-07-08T10:10:08.899956Z",
     "iopub.status.idle": "2021-07-08T10:10:09.015355Z",
     "shell.execute_reply": "2021-07-08T10:10:09.015801Z",
     "shell.execute_reply.started": "2021-07-08T10:01:36.267605Z"
    },
    "papermill": {
     "duration": 0.212742,
     "end_time": "2021-07-08T10:10:09.015947",
     "exception": false,
     "start_time": "2021-07-08T10:10:08.803205",
     "status": "completed"
    },
    "tags": []
   },
   "outputs": [
    {
     "data": {
      "image/png": "[encoded data removed]",
      "text/plain": [
       "<Figure size 432x288 with 1 Axes>"
      ]
     },
     "metadata": {
      "needs_background": "light"
     },
     "output_type": "display_data"
    }
   ],
   "source": [
    "plot_accuracies(history)"
   ]
  },
  {
   "cell_type": "markdown",
   "id": "7976a864",
   "metadata": {
    "papermill": {
     "duration": 0.081663,
     "end_time": "2021-07-08T10:10:09.177847",
     "exception": false,
     "start_time": "2021-07-08T10:10:09.096184",
     "status": "completed"
    },
    "tags": []
   },
   "source": [
    "Finally, evaluate the model on the test dataset report its final performance."
   ]
  },
  {
   "cell_type": "code",
   "execution_count": 42,
   "id": "28883e29",
   "metadata": {
    "execution": {
     "iopub.execute_input": "2021-07-08T10:10:09.341818Z",
     "iopub.status.busy": "2021-07-08T10:10:09.340765Z",
     "iopub.status.idle": "2021-07-08T10:10:10.537526Z",
     "shell.execute_reply": "2021-07-08T10:10:10.536856Z",
     "shell.execute_reply.started": "2021-07-08T09:44:46.967970Z"
    },
    "papermill": {
     "duration": 1.279948,
     "end_time": "2021-07-08T10:10:10.537657",
     "exception": false,
     "start_time": "2021-07-08T10:10:09.257709",
     "status": "completed"
    },
    "tags": []
   },
   "outputs": [
    {
     "data": {
      "text/plain": [
       "{'val_loss': 1.3640985488891602, 'val_acc': 0.519824206829071}"
      ]
     },
     "execution_count": 42,
     "metadata": {},
     "output_type": "execute_result"
    }
   ],
   "source": [
    "evaluate(model, test_loader)"
   ]
  },
  {
   "cell_type": "markdown",
   "id": "9e0b17e9",
   "metadata": {
    "papermill": {
     "duration": 0.079599,
     "end_time": "2021-07-08T10:10:10.696935",
     "exception": false,
     "start_time": "2021-07-08T10:10:10.617336",
     "status": "completed"
    },
    "tags": []
   },
   "source": [
    "Are you happy with the accuracy? Record your results by completing the section below, then you can come back and try a different architecture & hyperparameters."
   ]
  },
  {
   "cell_type": "markdown",
   "id": "9c2719ce",
   "metadata": {
    "papermill": {
     "duration": 0.079581,
     "end_time": "2021-07-08T10:10:10.855466",
     "exception": false,
     "start_time": "2021-07-08T10:10:10.775885",
     "status": "completed"
    },
    "tags": []
   },
   "source": [
    "## Recoding your results\n",
    "\n",
    "As your perform multiple experiments, it's important to record the results in a systematic fashion, so that you can review them later and identify the best approaches that you might want to reproduce or build upon later. \n",
    "\n",
    "**Q: Describe the model's architecture with a short summary.**\n",
    "\n",
    "E.g. `\"3 layers (16,32,10)\"` (16, 32 and 10 represent output sizes of each layer)"
   ]
  },
  {
   "cell_type": "code",
   "execution_count": 43,
   "id": "3da5a6df",
   "metadata": {
    "execution": {
     "iopub.execute_input": "2021-07-08T10:10:11.021724Z",
     "iopub.status.busy": "2021-07-08T10:10:11.020940Z",
     "iopub.status.idle": "2021-07-08T10:10:11.024204Z",
     "shell.execute_reply": "2021-07-08T10:10:11.023645Z"
    },
    "papermill": {
     "duration": 0.090052,
     "end_time": "2021-07-08T10:10:11.024445",
     "exception": true,
     "start_time": "2021-07-08T10:10:10.934393",
     "status": "failed"
    },
    "tags": []
   },
   "outputs": [],
   "source": [
    "arch = \"3 layers (128,64,10)\""
   ]
  },
  {
   "cell_type": "markdown",
   "id": "d20d0d7b",
   "metadata": {
    "papermill": {
     "duration": null,
     "end_time": null,
     "exception": null,
     "start_time": null,
     "status": "pending"
    },
    "tags": []
   },
   "source": [
    "**Q: Provide the list of learning rates used while training.**"
   ]
  },
  {
   "cell_type": "code",
   "execution_count": 45,
   "id": "b958e626",
   "metadata": {
    "papermill": {
     "duration": null,
     "end_time": null,
     "exception": null,
     "start_time": null,
     "status": "pending"
    },
    "tags": []
   },
   "outputs": [],
   "source": [
    "lrs = [0.1,0.05,0.005,0.0005]"
   ]
  },
  {
   "cell_type": "markdown",
   "id": "b15d48bd",
   "metadata": {
    "papermill": {
     "duration": null,
     "end_time": null,
     "exception": null,
     "start_time": null,
     "status": "pending"
    },
    "tags": []
   },
   "source": [
    "**Q: Provide the list of no. of epochs used while training.**"
   ]
  },
  {
   "cell_type": "code",
   "execution_count": 46,
   "id": "c2b5449f",
   "metadata": {
    "papermill": {
     "duration": null,
     "end_time": null,
     "exception": null,
     "start_time": null,
     "status": "pending"
    },
    "tags": []
   },
   "outputs": [],
   "source": [
    "epochs = [10,5,5,5]"
   ]
  },
  {
   "cell_type": "markdown",
   "id": "c6880336",
   "metadata": {
    "papermill": {
     "duration": null,
     "end_time": null,
     "exception": null,
     "start_time": null,
     "status": "pending"
    },
    "tags": []
   },
   "source": [
    "**Q: What were the final test accuracy & test loss?**"
   ]
  },
  {
   "cell_type": "code",
   "execution_count": 47,
   "id": "9e12fc10",
   "metadata": {
    "papermill": {
     "duration": null,
     "end_time": null,
     "exception": null,
     "start_time": null,
     "status": "pending"
    },
    "tags": []
   },
   "outputs": [],
   "source": [
    "test_acc = 0.5198\n",
    "test_loss = 1.3640"
   ]
  },
  {
   "cell_type": "markdown",
   "id": "0d397a99",
   "metadata": {
    "papermill": {
     "duration": null,
     "end_time": null,
     "exception": null,
     "start_time": null,
     "status": "pending"
    },
    "tags": []
   },
   "source": [
    "Finally, let's save the trained model weights to disk, so we can use this model later."
   ]
  },
  {
   "cell_type": "code",
   "execution_count": 48,
   "id": "38c95df5",
   "metadata": {
    "papermill": {
     "duration": null,
     "end_time": null,
     "exception": null,
     "start_time": null,
     "status": "pending"
    },
    "tags": []
   },
   "outputs": [],
   "source": [
    "torch.save(model.state_dict(), 'cifar10-feedforward.pth')"
   ]
  },
  {
   "cell_type": "markdown",
   "id": "46521ed0",
   "metadata": {
    "papermill": {
     "duration": null,
     "end_time": null,
     "exception": null,
     "start_time": null,
     "status": "pending"
    },
    "tags": []
   },
   "source": [
    "The `jovian` library provides some utility functions to keep your work organized. With every version of your notebok, you can attach some hyperparameters and metrics from your experiment."
   ]
  },
  {
   "cell_type": "code",
   "execution_count": 49,
   "id": "1b9666fa",
   "metadata": {
    "papermill": {
     "duration": null,
     "end_time": null,
     "exception": null,
     "start_time": null,
     "status": "pending"
    },
    "tags": []
   },
   "outputs": [],
   "source": [
    "# Clear previously recorded hyperparams & metrics\n",
    "jovian.reset()"
   ]
  },
  {
   "cell_type": "code",
   "execution_count": 50,
   "id": "10eb273a",
   "metadata": {
    "papermill": {
     "duration": null,
     "end_time": null,
     "exception": null,
     "start_time": null,
     "status": "pending"
    },
    "tags": []
   },
   "outputs": [
    {
     "name": "stdout",
     "output_type": "stream",
     "text": [
      "[jovian] Hyperparams logged.\u001b[0m\n"
     ]
    }
   ],
   "source": [
    "jovian.log_hyperparams(arch=arch, \n",
    "                       lrs=lrs, \n",
    "                       epochs=epochs)"
   ]
  },
  {
   "cell_type": "code",
   "execution_count": 51,
   "id": "39edc50f",
   "metadata": {
    "papermill": {
     "duration": null,
     "end_time": null,
     "exception": null,
     "start_time": null,
     "status": "pending"
    },
    "tags": []
   },
   "outputs": [
    {
     "name": "stdout",
     "output_type": "stream",
     "text": [
      "[jovian] Metrics logged.\u001b[0m\n"
     ]
    }
   ],
   "source": [
    "jovian.log_metrics(test_loss=test_loss, test_acc=test_acc)"
   ]
  },
  {
   "cell_type": "markdown",
   "id": "a5e69804",
   "metadata": {
    "papermill": {
     "duration": null,
     "end_time": null,
     "exception": null,
     "start_time": null,
     "status": "pending"
    },
    "tags": []
   },
   "source": [
    "Finally, we can commit the notebook to Jovian, attaching the hypeparameters, metrics and the trained model weights."
   ]
  },
  {
   "cell_type": "code",
   "execution_count": 52,
   "id": "e59ae161",
   "metadata": {
    "papermill": {
     "duration": null,
     "end_time": null,
     "exception": null,
     "start_time": null,
     "status": "pending"
    },
    "tags": []
   },
   "outputs": [
    {
     "data": {
      "application/javascript": [
       "window.require && require([\"base/js/namespace\"],function(Jupyter){Jupyter.notebook.save_checkpoint()})"
      ],
      "text/plain": [
       "<IPython.core.display.Javascript object>"
      ]
     },
     "metadata": {},
     "output_type": "display_data"
    },
    {
     "name": "stdout",
     "output_type": "stream",
     "text": [
      "[jovian] Updating notebook \"tjorgais002/03-cifar10-feedforward\" on https://jovian.ai\u001b[0m\n",
      "[jovian] Uploading additional outputs...\u001b[0m\n",
      "[jovian] Attaching records (metrics, hyperparameters, dataset etc.)\u001b[0m\n",
      "[jovian] Committed successfully! https://jovian.ai/tjorgais002/03-cifar10-feedforward\u001b[0m\n"
     ]
    },
    {
     "data": {
      "text/plain": [
       "'https://jovian.ai/tjorgais002/03-cifar10-feedforward'"
      ]
     },
     "execution_count": 52,
     "metadata": {},
     "output_type": "execute_result"
    }
   ],
   "source": [
    "jovian.commit(project=project_name, outputs=['cifar10-feedforward.pth'], environment=None)"
   ]
  },
  {
   "cell_type": "markdown",
   "id": "ee0120a1",
   "metadata": {
    "papermill": {
     "duration": null,
     "end_time": null,
     "exception": null,
     "start_time": null,
     "status": "pending"
    },
    "tags": []
   },
   "source": [
    "Once committed, you can find the recorded metrics & hyperprameters in the \"Records\" tab on Jovian. You can find the saved model weights in the \"Files\" tab.\n",
    "\n",
    "## Continued experimentation\n",
    "\n",
    "Now go back up to the **\"Training the model\"** section, and try another network architecture with a different set of hyperparameters. As you try different experiments, you will start to build an undestanding of how the different architectures & hyperparameters affect the final result. Don't worry if you can't get to very high accuracy, we'll make some fundamental changes to our model in the next lecture.\n",
    "\n",
    "Once you have tried multiple experiments, you can compare your results using the **\"Compare\"** button on Jovian.\n",
    "\n",
    "![compare-example](https://i.imgur.com/ltdYnSN.png)"
   ]
  },
  {
   "cell_type": "markdown",
   "id": "a74d7c3b",
   "metadata": {
    "papermill": {
     "duration": null,
     "end_time": null,
     "exception": null,
     "start_time": null,
     "status": "pending"
    },
    "tags": []
   },
   "source": [
    "## (Optional) Write a blog post\n",
    "\n",
    "Writing a blog post is the best way to further improve your understanding of deep learning & model training, because it forces you to articulate your thoughts clearly. Here'are some ideas for a blog post:\n",
    "- Report the results given by different architectures on the CIFAR10 dataset\n",
    "- Apply this training pipeline to a different dataset (it doesn't have to be images, or a classification problem) \n",
    "- Improve upon your model from Assignment 2 using a feedfoward neural network, and write a sequel to your previous blog post\n",
    "- Share some Strategies for picking good hyperparameters for deep learning\n",
    "- Present a summary of the different steps involved in training a deep learning model with PyTorch\n",
    "- Implement the same model using a different deep learning library e.g. Keras ( https://keras.io/ ), and present a comparision.\n"
   ]
  },
  {
   "cell_type": "code",
   "execution_count": null,
   "id": "56dcb8b7",
   "metadata": {
    "papermill": {
     "duration": null,
     "end_time": null,
     "exception": null,
     "start_time": null,
     "status": "pending"
    },
    "tags": []
   },
   "outputs": [],
   "source": []
  }
 ],
 "metadata": {
  "language_info": {
   "codemirror_mode": {
    "name": "ipython",
    "version": 3
   },
   "file_extension": ".py",
   "mimetype": "text/x-python",
   "name": "python",
   "nbconvert_exporter": "python",
   "pygments_lexer": "ipython3",
   "version": "3.9.5"
  },
  "papermill": {
   "default_parameters": {},
   "duration": 212.888669,
   "end_time": "2021-07-08T10:10:13.223343",
   "environment_variables": {},
   "exception": true,
   "input_path": "__notebook__.ipynb",
   "output_path": "__notebook__.ipynb",
   "parameters": {},
   "start_time": "2021-07-08T10:06:40.334674",
   "version": "2.3.3"
  },
  "widgets": {
   "application/vnd.jupyter.widget-state+json": {
    "state": {
     "349392578f294679a18f4c5b2f81864b": {
      "model_module": "@jupyter-widgets/controls",
      "model_module_version": "1.5.0",
      "model_name": "HBoxModel",
      "state": {
       "_dom_classes": [],
       "_model_module": "@jupyter-widgets/controls",
       "_model_module_version": "1.5.0",
       "_model_name": "HBoxModel",
       "_view_count": null,
       "_view_module": "@jupyter-widgets/controls",
       "_view_module_version": "1.5.0",
       "_view_name": "HBoxView",
       "box_style": "",
       "children": [
        "IPY_MODEL_34f563b85baa44d4812b51b9e2ba2195",
        "IPY_MODEL_d1da0b917c6b407fb9fae37ff1b84c81",
        "IPY_MODEL_c557c0b0123f42929fa98266fe2af5d9"
       ],
       "layout": "IPY_MODEL_e2103759949e4724b5646acc9f767664"
      }
     },
     "34f563b85baa44d4812b51b9e2ba2195": {
      "model_module": "@jupyter-widgets/controls",
      "model_module_version": "1.5.0",
      "model_name": "HTMLModel",
      "state": {
       "_dom_classes": [],
       "_model_module": "@jupyter-widgets/controls",
       "_model_module_version": "1.5.0",
       "_model_name": "HTMLModel",
       "_view_count": null,
       "_view_module": "@jupyter-widgets/controls",
       "_view_module_version": "1.5.0",
       "_view_name": "HTMLView",
       "description": "",
       "description_tooltip": null,
       "layout": "IPY_MODEL_d958ab5993314e6f85f13490f851fb72",
       "placeholder": "​",
       "style": "IPY_MODEL_78c3de192b604f66b9a8b4accf7522af",
       "value": ""
      }
     },
     "4ffff52e823540daa8827871dfed998e": {
      "model_module": "@jupyter-widgets/base",
      "model_module_version": "1.2.0",
      "model_name": "LayoutModel",
      "state": {
       "_model_module": "@jupyter-widgets/base",
       "_model_module_version": "1.2.0",
       "_model_name": "LayoutModel",
       "_view_count": null,
       "_view_module": "@jupyter-widgets/base",
       "_view_module_version": "1.2.0",
       "_view_name": "LayoutView",
       "align_content": null,
       "align_items": null,
       "align_self": null,
       "border": null,
       "bottom": null,
       "display": null,
       "flex": null,
       "flex_flow": null,
       "grid_area": null,
       "grid_auto_columns": null,
       "grid_auto_flow": null,
       "grid_auto_rows": null,
       "grid_column": null,
       "grid_gap": null,
       "grid_row": null,
       "grid_template_areas": null,
       "grid_template_columns": null,
       "grid_template_rows": null,
       "height": null,
       "justify_content": null,
       "justify_items": null,
       "left": null,
       "margin": null,
       "max_height": null,
       "max_width": null,
       "min_height": null,
       "min_width": null,
       "object_fit": null,
       "object_position": null,
       "order": null,
       "overflow": null,
       "overflow_x": null,
       "overflow_y": null,
       "padding": null,
       "right": null,
       "top": null,
       "visibility": null,
       "width": "20px"
      }
     },
     "78c3de192b604f66b9a8b4accf7522af": {
      "model_module": "@jupyter-widgets/controls",
      "model_module_version": "1.5.0",
      "model_name": "DescriptionStyleModel",
      "state": {
       "_model_module": "@jupyter-widgets/controls",
       "_model_module_version": "1.5.0",
       "_model_name": "DescriptionStyleModel",
       "_view_count": null,
       "_view_module": "@jupyter-widgets/base",
       "_view_module_version": "1.2.0",
       "_view_name": "StyleView",
       "description_width": ""
      }
     },
     "8077df93c9214871898bdeb4ab586c38": {
      "model_module": "@jupyter-widgets/controls",
      "model_module_version": "1.5.0",
      "model_name": "ProgressStyleModel",
      "state": {
       "_model_module": "@jupyter-widgets/controls",
       "_model_module_version": "1.5.0",
       "_model_name": "ProgressStyleModel",
       "_view_count": null,
       "_view_module": "@jupyter-widgets/base",
       "_view_module_version": "1.2.0",
       "_view_name": "StyleView",
       "bar_color": null,
       "description_width": ""
      }
     },
     "b7ac1425a81c4146969b9b45c6adfde2": {
      "model_module": "@jupyter-widgets/base",
      "model_module_version": "1.2.0",
      "model_name": "LayoutModel",
      "state": {
       "_model_module": "@jupyter-widgets/base",
       "_model_module_version": "1.2.0",
       "_model_name": "LayoutModel",
       "_view_count": null,
       "_view_module": "@jupyter-widgets/base",
       "_view_module_version": "1.2.0",
       "_view_name": "LayoutView",
       "align_content": null,
       "align_items": null,
       "align_self": null,
       "border": null,
       "bottom": null,
       "display": null,
       "flex": null,
       "flex_flow": null,
       "grid_area": null,
       "grid_auto_columns": null,
       "grid_auto_flow": null,
       "grid_auto_rows": null,
       "grid_column": null,
       "grid_gap": null,
       "grid_row": null,
       "grid_template_areas": null,
       "grid_template_columns": null,
       "grid_template_rows": null,
       "height": null,
       "justify_content": null,
       "justify_items": null,
       "left": null,
       "margin": null,
       "max_height": null,
       "max_width": null,
       "min_height": null,
       "min_width": null,
       "object_fit": null,
       "object_position": null,
       "order": null,
       "overflow": null,
       "overflow_x": null,
       "overflow_y": null,
       "padding": null,
       "right": null,
       "top": null,
       "visibility": null,
       "width": null
      }
     },
     "c41c4469f432475c8d2c99cd506ab6d5": {
      "model_module": "@jupyter-widgets/controls",
      "model_module_version": "1.5.0",
      "model_name": "DescriptionStyleModel",
      "state": {
       "_model_module": "@jupyter-widgets/controls",
       "_model_module_version": "1.5.0",
       "_model_name": "DescriptionStyleModel",
       "_view_count": null,
       "_view_module": "@jupyter-widgets/base",
       "_view_module_version": "1.2.0",
       "_view_name": "StyleView",
       "description_width": ""
      }
     },
     "c557c0b0123f42929fa98266fe2af5d9": {
      "model_module": "@jupyter-widgets/controls",
      "model_module_version": "1.5.0",
      "model_name": "HTMLModel",
      "state": {
       "_dom_classes": [],
       "_model_module": "@jupyter-widgets/controls",
       "_model_module_version": "1.5.0",
       "_model_name": "HTMLModel",
       "_view_count": null,
       "_view_module": "@jupyter-widgets/controls",
       "_view_module_version": "1.5.0",
       "_view_name": "HTMLView",
       "description": "",
       "description_tooltip": null,
       "layout": "IPY_MODEL_b7ac1425a81c4146969b9b45c6adfde2",
       "placeholder": "​",
       "style": "IPY_MODEL_c41c4469f432475c8d2c99cd506ab6d5",
       "value": " 170500096/? [00:20&lt;00:00, 92636501.45it/s]"
      }
     },
     "d1da0b917c6b407fb9fae37ff1b84c81": {
      "model_module": "@jupyter-widgets/controls",
      "model_module_version": "1.5.0",
      "model_name": "FloatProgressModel",
      "state": {
       "_dom_classes": [],
       "_model_module": "@jupyter-widgets/controls",
       "_model_module_version": "1.5.0",
       "_model_name": "FloatProgressModel",
       "_view_count": null,
       "_view_module": "@jupyter-widgets/controls",
       "_view_module_version": "1.5.0",
       "_view_name": "ProgressView",
       "bar_style": "info",
       "description": "",
       "description_tooltip": null,
       "layout": "IPY_MODEL_4ffff52e823540daa8827871dfed998e",
       "max": 1,
       "min": 0,
       "orientation": "horizontal",
       "style": "IPY_MODEL_8077df93c9214871898bdeb4ab586c38",
       "value": 1
      }
     },
     "d958ab5993314e6f85f13490f851fb72": {
      "model_module": "@jupyter-widgets/base",
      "model_module_version": "1.2.0",
      "model_name": "LayoutModel",
      "state": {
       "_model_module": "@jupyter-widgets/base",
       "_model_module_version": "1.2.0",
       "_model_name": "LayoutModel",
       "_view_count": null,
       "_view_module": "@jupyter-widgets/base",
       "_view_module_version": "1.2.0",
       "_view_name": "LayoutView",
       "align_content": null,
       "align_items": null,
       "align_self": null,
       "border": null,
       "bottom": null,
       "display": null,
       "flex": null,
       "flex_flow": null,
       "grid_area": null,
       "grid_auto_columns": null,
       "grid_auto_flow": null,
       "grid_auto_rows": null,
       "grid_column": null,
       "grid_gap": null,
       "grid_row": null,
       "grid_template_areas": null,
       "grid_template_columns": null,
       "grid_template_rows": null,
       "height": null,
       "justify_content": null,
       "justify_items": null,
       "left": null,
       "margin": null,
       "max_height": null,
       "max_width": null,
       "min_height": null,
       "min_width": null,
       "object_fit": null,
       "object_position": null,
       "order": null,
       "overflow": null,
       "overflow_x": null,
       "overflow_y": null,
       "padding": null,
       "right": null,
       "top": null,
       "visibility": null,
       "width": null
      }
     },
     "e2103759949e4724b5646acc9f767664": {
      "model_module": "@jupyter-widgets/base",
      "model_module_version": "1.2.0",
      "model_name": "LayoutModel",
      "state": {
       "_model_module": "@jupyter-widgets/base",
       "_model_module_version": "1.2.0",
       "_model_name": "LayoutModel",
       "_view_count": null,
       "_view_module": "@jupyter-widgets/base",
       "_view_module_version": "1.2.0",
       "_view_name": "LayoutView",
       "align_content": null,
       "align_items": null,
       "align_self": null,
       "border": null,
       "bottom": null,
       "display": null,
       "flex": null,
       "flex_flow": null,
       "grid_area": null,
       "grid_auto_columns": null,
       "grid_auto_flow": null,
       "grid_auto_rows": null,
       "grid_column": null,
       "grid_gap": null,
       "grid_row": null,
       "grid_template_areas": null,
       "grid_template_columns": null,
       "grid_template_rows": null,
       "height": null,
       "justify_content": null,
       "justify_items": null,
       "left": null,
       "margin": null,
       "max_height": null,
       "max_width": null,
       "min_height": null,
       "min_width": null,
       "object_fit": null,
       "object_position": null,
       "order": null,
       "overflow": null,
       "overflow_x": null,
       "overflow_y": null,
       "padding": null,
       "right": null,
       "top": null,
       "visibility": null,
       "width": null
      }
     }
    },
    "version_major": 2,
    "version_minor": 0
   }
  }
 },
 "nbformat": 4,
 "nbformat_minor": 5
}